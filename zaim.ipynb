  {
   "cell_type": "markdown",
   "id": "cc4b56a8",
   "metadata": {
    "deletable": false,
    "editable": false,
    "id": "744d7639"
   },
   "source": [
    "## Откройте таблицу и изучите общую информацию о данных"
   ]
  },
  {
   "cell_type": "markdown",
   "id": "b9c32c87",
   "metadata": {
    "deletable": false,
    "editable": false,
    "id": "e7a14c31"
   },
   "source": [
    "**Задание 1. Импортируйте библиотеку pandas. Считайте данные из csv-файла в датафрейм и сохраните в переменную `data`. Путь к файлу:**\n",
    "\n",
    "`/datasets/data.csv`"
   ]
  },
  {
   "cell_type": "code",
   "execution_count": 1,
   "id": "5babee89",
   "metadata": {
    "deletable": false,
    "id": "7bcf75c9"
   },
   "outputs": [],
   "source": [
    "import pandas as pd\n",
    "\n",
    "try:\n",
    "    data = pd.read_csv('/datasets/data.csv')\n",
    "except:\n",
    "    data = pd.read_csv('https://code.s3.yandex.net/datasets/data.csv')"
   ]
  },
  {
   "cell_type": "markdown",
   "id": "c0159eb1",
   "metadata": {
    "deletable": false,
    "editable": false,
    "id": "b8038fe3"
   },
   "source": [
    "**Задание 2. Выведите первые 20 строчек датафрейма `data` на экран.**"
   ]
  },
  {
   "cell_type": "code",
   "execution_count": 2,
   "id": "71727b08",
   "metadata": {
    "deletable": false,
    "id": "2a7cab99",
    "outputId": "1a8f3ef2-d323-4ec2-ddf7-89670b5944c4"
   },
   "outputs": [
    {
     "data": {
      "text/html": [
       "<div>\n",
       "<style scoped>\n",
       "    .dataframe tbody tr th:only-of-type {\n",
       "        vertical-align: middle;\n",
       "    }\n",
       "\n",
       "    .dataframe tbody tr th {\n",
       "        vertical-align: top;\n",
       "    }\n",
       "\n",
       "    .dataframe thead th {\n",
       "        text-align: right;\n",
       "    }\n",
       "</style>\n",
       "<table border=\"1\" class=\"dataframe\">\n",
       "  <thead>\n",
       "    <tr style=\"text-align: right;\">\n",
       "      <th></th>\n",
       "      <th>children</th>\n",
       "      <th>days_employed</th>\n",
       "      <th>dob_years</th>\n",
       "      <th>education</th>\n",
       "      <th>education_id</th>\n",
       "      <th>family_status</th>\n",
       "      <th>family_status_id</th>\n",
       "      <th>gender</th>\n",
       "      <th>income_type</th>\n",
       "      <th>debt</th>\n",
       "      <th>total_income</th>\n",
       "      <th>purpose</th>\n",
       "    </tr>\n",
       "  </thead>\n",
       "  <tbody>\n",
       "    <tr>\n",
       "      <th>0</th>\n",
       "      <td>1</td>\n",
       "      <td>-8437.673028</td>\n",
       "      <td>42</td>\n",
       "      <td>высшее</td>\n",
       "      <td>0</td>\n",
       "      <td>женат / замужем</td>\n",
       "      <td>0</td>\n",
       "      <td>F</td>\n",
       "      <td>сотрудник</td>\n",
       "      <td>0</td>\n",
       "      <td>253875.639453</td>\n",
       "      <td>покупка жилья</td>\n",
       "    </tr>\n",
       "    <tr>\n",
       "      <th>1</th>\n",
       "      <td>1</td>\n",
       "      <td>-4024.803754</td>\n",
       "      <td>36</td>\n",
       "      <td>среднее</td>\n",
       "      <td>1</td>\n",
       "      <td>женат / замужем</td>\n",
       "      <td>0</td>\n",
       "      <td>F</td>\n",
       "      <td>сотрудник</td>\n",
       "      <td>0</td>\n",
       "      <td>112080.014102</td>\n",
       "      <td>приобретение автомобиля</td>\n",
       "    </tr>\n",
       "    <tr>\n",
       "      <th>2</th>\n",
       "      <td>0</td>\n",
       "      <td>-5623.422610</td>\n",
       "      <td>33</td>\n",
       "      <td>Среднее</td>\n",
       "      <td>1</td>\n",
       "      <td>женат / замужем</td>\n",
       "      <td>0</td>\n",
       "      <td>M</td>\n",
       "      <td>сотрудник</td>\n",
       "      <td>0</td>\n",
       "      <td>145885.952297</td>\n",
       "      <td>покупка жилья</td>\n",
       "    </tr>\n",
       "    <tr>\n",
       "      <th>3</th>\n",
       "      <td>3</td>\n",
       "      <td>-4124.747207</td>\n",
       "      <td>32</td>\n",
       "      <td>среднее</td>\n",
       "      <td>1</td>\n",
       "      <td>женат / замужем</td>\n",
       "      <td>0</td>\n",
       "      <td>M</td>\n",
       "      <td>сотрудник</td>\n",
       "      <td>0</td>\n",
       "      <td>267628.550329</td>\n",
       "      <td>дополнительное образование</td>\n",
       "    </tr>\n",
       "    <tr>\n",
       "      <th>4</th>\n",
       "      <td>0</td>\n",
       "      <td>340266.072047</td>\n",
       "      <td>53</td>\n",
       "      <td>среднее</td>\n",
       "      <td>1</td>\n",
       "      <td>гражданский брак</td>\n",
       "      <td>1</td>\n",
       "      <td>F</td>\n",
       "      <td>пенсионер</td>\n",
       "      <td>0</td>\n",
       "      <td>158616.077870</td>\n",
       "      <td>сыграть свадьбу</td>\n",
       "    </tr>\n",
       "    <tr>\n",
       "      <th>5</th>\n",
       "      <td>0</td>\n",
       "      <td>-926.185831</td>\n",
       "      <td>27</td>\n",
       "      <td>высшее</td>\n",
       "      <td>0</td>\n",
       "      <td>гражданский брак</td>\n",
       "      <td>1</td>\n",
       "      <td>M</td>\n",
       "      <td>компаньон</td>\n",
       "      <td>0</td>\n",
       "      <td>255763.565419</td>\n",
       "      <td>покупка жилья</td>\n",
       "    </tr>\n",
       "    <tr>\n",
       "      <th>6</th>\n",
       "      <td>0</td>\n",
       "      <td>-2879.202052</td>\n",
       "      <td>43</td>\n",
       "      <td>высшее</td>\n",
       "      <td>0</td>\n",
       "      <td>женат / замужем</td>\n",
       "      <td>0</td>\n",
       "      <td>F</td>\n",
       "      <td>компаньон</td>\n",
       "      <td>0</td>\n",
       "      <td>240525.971920</td>\n",
       "      <td>операции с жильем</td>\n",
       "    </tr>\n",
       "    <tr>\n",
       "      <th>7</th>\n",
       "      <td>0</td>\n",
       "      <td>-152.779569</td>\n",
       "      <td>50</td>\n",
       "      <td>СРЕДНЕЕ</td>\n",
       "      <td>1</td>\n",
       "      <td>женат / замужем</td>\n",
       "      <td>0</td>\n",
       "      <td>M</td>\n",
       "      <td>сотрудник</td>\n",
       "      <td>0</td>\n",
       "      <td>135823.934197</td>\n",
       "      <td>образование</td>\n",
       "    </tr>\n",
       "    <tr>\n",
       "      <th>8</th>\n",
       "      <td>2</td>\n",
       "      <td>-6929.865299</td>\n",
       "      <td>35</td>\n",
       "      <td>ВЫСШЕЕ</td>\n",
       "      <td>0</td>\n",
       "      <td>гражданский брак</td>\n",
       "      <td>1</td>\n",
       "      <td>F</td>\n",
       "      <td>сотрудник</td>\n",
       "      <td>0</td>\n",
       "      <td>95856.832424</td>\n",
       "      <td>на проведение свадьбы</td>\n",
       "    </tr>\n",
       "    <tr>\n",
       "      <th>9</th>\n",
       "      <td>0</td>\n",
       "      <td>-2188.756445</td>\n",
       "      <td>41</td>\n",
       "      <td>среднее</td>\n",
       "      <td>1</td>\n",
       "      <td>женат / замужем</td>\n",
       "      <td>0</td>\n",
       "      <td>M</td>\n",
       "      <td>сотрудник</td>\n",
       "      <td>0</td>\n",
       "      <td>144425.938277</td>\n",
       "      <td>покупка жилья для семьи</td>\n",
       "    </tr>\n",
       "    <tr>\n",
       "      <th>10</th>\n",
       "      <td>2</td>\n",
       "      <td>-4171.483647</td>\n",
       "      <td>36</td>\n",
       "      <td>высшее</td>\n",
       "      <td>0</td>\n",
       "      <td>женат / замужем</td>\n",
       "      <td>0</td>\n",
       "      <td>M</td>\n",
       "      <td>компаньон</td>\n",
       "      <td>0</td>\n",
       "      <td>113943.491460</td>\n",
       "      <td>покупка недвижимости</td>\n",
       "    </tr>\n",
       "    <tr>\n",
       "      <th>11</th>\n",
       "      <td>0</td>\n",
       "      <td>-792.701887</td>\n",
       "      <td>40</td>\n",
       "      <td>среднее</td>\n",
       "      <td>1</td>\n",
       "      <td>женат / замужем</td>\n",
       "      <td>0</td>\n",
       "      <td>F</td>\n",
       "      <td>сотрудник</td>\n",
       "      <td>0</td>\n",
       "      <td>77069.234271</td>\n",
       "      <td>покупка коммерческой недвижимости</td>\n",
       "    </tr>\n",
       "    <tr>\n",
       "      <th>12</th>\n",
       "      <td>0</td>\n",
       "      <td>NaN</td>\n",
       "      <td>65</td>\n",
       "      <td>среднее</td>\n",
       "      <td>1</td>\n",
       "      <td>гражданский брак</td>\n",
       "      <td>1</td>\n",
       "      <td>M</td>\n",
       "      <td>пенсионер</td>\n",
       "      <td>0</td>\n",
       "      <td>NaN</td>\n",
       "      <td>сыграть свадьбу</td>\n",
       "    </tr>\n",
       "    <tr>\n",
       "      <th>13</th>\n",
       "      <td>0</td>\n",
       "      <td>-1846.641941</td>\n",
       "      <td>54</td>\n",
       "      <td>неоконченное высшее</td>\n",
       "      <td>2</td>\n",
       "      <td>женат / замужем</td>\n",
       "      <td>0</td>\n",
       "      <td>F</td>\n",
       "      <td>сотрудник</td>\n",
       "      <td>0</td>\n",
       "      <td>130458.228857</td>\n",
       "      <td>приобретение автомобиля</td>\n",
       "    </tr>\n",
       "    <tr>\n",
       "      <th>14</th>\n",
       "      <td>0</td>\n",
       "      <td>-1844.956182</td>\n",
       "      <td>56</td>\n",
       "      <td>высшее</td>\n",
       "      <td>0</td>\n",
       "      <td>гражданский брак</td>\n",
       "      <td>1</td>\n",
       "      <td>F</td>\n",
       "      <td>компаньон</td>\n",
       "      <td>1</td>\n",
       "      <td>165127.911772</td>\n",
       "      <td>покупка жилой недвижимости</td>\n",
       "    </tr>\n",
       "    <tr>\n",
       "      <th>15</th>\n",
       "      <td>1</td>\n",
       "      <td>-972.364419</td>\n",
       "      <td>26</td>\n",
       "      <td>среднее</td>\n",
       "      <td>1</td>\n",
       "      <td>женат / замужем</td>\n",
       "      <td>0</td>\n",
       "      <td>F</td>\n",
       "      <td>сотрудник</td>\n",
       "      <td>0</td>\n",
       "      <td>116820.904450</td>\n",
       "      <td>строительство собственной недвижимости</td>\n",
       "    </tr>\n",
       "    <tr>\n",
       "      <th>16</th>\n",
       "      <td>0</td>\n",
       "      <td>-1719.934226</td>\n",
       "      <td>35</td>\n",
       "      <td>среднее</td>\n",
       "      <td>1</td>\n",
       "      <td>женат / замужем</td>\n",
       "      <td>0</td>\n",
       "      <td>F</td>\n",
       "      <td>сотрудник</td>\n",
       "      <td>0</td>\n",
       "      <td>289202.704229</td>\n",
       "      <td>недвижимость</td>\n",
       "    </tr>\n",
       "    <tr>\n",
       "      <th>17</th>\n",
       "      <td>0</td>\n",
       "      <td>-2369.999720</td>\n",
       "      <td>33</td>\n",
       "      <td>высшее</td>\n",
       "      <td>0</td>\n",
       "      <td>гражданский брак</td>\n",
       "      <td>1</td>\n",
       "      <td>M</td>\n",
       "      <td>сотрудник</td>\n",
       "      <td>0</td>\n",
       "      <td>90410.586745</td>\n",
       "      <td>строительство недвижимости</td>\n",
       "    </tr>\n",
       "    <tr>\n",
       "      <th>18</th>\n",
       "      <td>0</td>\n",
       "      <td>400281.136913</td>\n",
       "      <td>53</td>\n",
       "      <td>среднее</td>\n",
       "      <td>1</td>\n",
       "      <td>вдовец / вдова</td>\n",
       "      <td>2</td>\n",
       "      <td>F</td>\n",
       "      <td>пенсионер</td>\n",
       "      <td>0</td>\n",
       "      <td>56823.777243</td>\n",
       "      <td>на покупку подержанного автомобиля</td>\n",
       "    </tr>\n",
       "    <tr>\n",
       "      <th>19</th>\n",
       "      <td>0</td>\n",
       "      <td>-10038.818549</td>\n",
       "      <td>48</td>\n",
       "      <td>СРЕДНЕЕ</td>\n",
       "      <td>1</td>\n",
       "      <td>в разводе</td>\n",
       "      <td>3</td>\n",
       "      <td>F</td>\n",
       "      <td>сотрудник</td>\n",
       "      <td>0</td>\n",
       "      <td>242831.107982</td>\n",
       "      <td>на покупку своего автомобиля</td>\n",
       "    </tr>\n",
       "  </tbody>\n",
       "</table>\n",
       "</div>"
      ],
      "text/plain": [
       "    children  days_employed  dob_years            education  education_id  \\\n",
       "0          1   -8437.673028         42               высшее             0   \n",
       "1          1   -4024.803754         36              среднее             1   \n",
       "2          0   -5623.422610         33              Среднее             1   \n",
       "3          3   -4124.747207         32              среднее             1   \n",
       "4          0  340266.072047         53              среднее             1   \n",
       "5          0    -926.185831         27               высшее             0   \n",
       "6          0   -2879.202052         43               высшее             0   \n",
       "7          0    -152.779569         50              СРЕДНЕЕ             1   \n",
       "8          2   -6929.865299         35               ВЫСШЕЕ             0   \n",
       "9          0   -2188.756445         41              среднее             1   \n",
       "10         2   -4171.483647         36               высшее             0   \n",
       "11         0    -792.701887         40              среднее             1   \n",
       "12         0            NaN         65              среднее             1   \n",
       "13         0   -1846.641941         54  неоконченное высшее             2   \n",
       "14         0   -1844.956182         56               высшее             0   \n",
       "15         1    -972.364419         26              среднее             1   \n",
       "16         0   -1719.934226         35              среднее             1   \n",
       "17         0   -2369.999720         33               высшее             0   \n",
       "18         0  400281.136913         53              среднее             1   \n",
       "19         0  -10038.818549         48              СРЕДНЕЕ             1   \n",
       "\n",
       "       family_status  family_status_id gender income_type  debt  \\\n",
       "0    женат / замужем                 0      F   сотрудник     0   \n",
       "1    женат / замужем                 0      F   сотрудник     0   \n",
       "2    женат / замужем                 0      M   сотрудник     0   \n",
       "3    женат / замужем                 0      M   сотрудник     0   \n",
       "4   гражданский брак                 1      F   пенсионер     0   \n",
       "5   гражданский брак                 1      M   компаньон     0   \n",
       "6    женат / замужем                 0      F   компаньон     0   \n",
       "7    женат / замужем                 0      M   сотрудник     0   \n",
       "8   гражданский брак                 1      F   сотрудник     0   \n",
       "9    женат / замужем                 0      M   сотрудник     0   \n",
       "10   женат / замужем                 0      M   компаньон     0   \n",
       "11   женат / замужем                 0      F   сотрудник     0   \n",
       "12  гражданский брак                 1      M   пенсионер     0   \n",
       "13   женат / замужем                 0      F   сотрудник     0   \n",
       "14  гражданский брак                 1      F   компаньон     1   \n",
       "15   женат / замужем                 0      F   сотрудник     0   \n",
       "16   женат / замужем                 0      F   сотрудник     0   \n",
       "17  гражданский брак                 1      M   сотрудник     0   \n",
       "18    вдовец / вдова                 2      F   пенсионер     0   \n",
       "19         в разводе                 3      F   сотрудник     0   \n",
       "\n",
       "     total_income                                 purpose  \n",
       "0   253875.639453                           покупка жилья  \n",
       "1   112080.014102                 приобретение автомобиля  \n",
       "2   145885.952297                           покупка жилья  \n",
       "3   267628.550329              дополнительное образование  \n",
       "4   158616.077870                         сыграть свадьбу  \n",
       "5   255763.565419                           покупка жилья  \n",
       "6   240525.971920                       операции с жильем  \n",
       "7   135823.934197                             образование  \n",
       "8    95856.832424                   на проведение свадьбы  \n",
       "9   144425.938277                 покупка жилья для семьи  \n",
       "10  113943.491460                    покупка недвижимости  \n",
       "11   77069.234271       покупка коммерческой недвижимости  \n",
       "12            NaN                         сыграть свадьбу  \n",
       "13  130458.228857                 приобретение автомобиля  \n",
       "14  165127.911772              покупка жилой недвижимости  \n",
       "15  116820.904450  строительство собственной недвижимости  \n",
       "16  289202.704229                            недвижимость  \n",
       "17   90410.586745              строительство недвижимости  \n",
       "18   56823.777243      на покупку подержанного автомобиля  \n",
       "19  242831.107982            на покупку своего автомобиля  "
      ]
     },
     "execution_count": 2,
     "metadata": {},
     "output_type": "execute_result"
    }
   ],
   "source": [
    "data.head(20)"
   ]
  },
  {
   "cell_type": "markdown",
   "id": "c4c17a43",
   "metadata": {
    "deletable": false,
    "editable": false,
    "id": "1c12e233"
   },
   "source": [
    "**Задание 3. Выведите основную информацию о датафрейме с помощью метода `info()`.**"
   ]
  },
  {
   "cell_type": "code",
   "execution_count": 3,
   "id": "b7586bbe",
   "metadata": {
    "deletable": false,
    "id": "2b757bca",
    "outputId": "15376089-8dad-46c9-b520-c05248d43158"
   },
   "outputs": [
    {
     "name": "stdout",
     "output_type": "stream",
     "text": [
      "<class 'pandas.core.frame.DataFrame'>\n",
      "RangeIndex: 21525 entries, 0 to 21524\n",
      "Data columns (total 12 columns):\n",
      " #   Column            Non-Null Count  Dtype  \n",
      "---  ------            --------------  -----  \n",
      " 0   children          21525 non-null  int64  \n",
      " 1   days_employed     19351 non-null  float64\n",
      " 2   dob_years         21525 non-null  int64  \n",
      " 3   education         21525 non-null  object \n",
      " 4   education_id      21525 non-null  int64  \n",
      " 5   family_status     21525 non-null  object \n",
      " 6   family_status_id  21525 non-null  int64  \n",
      " 7   gender            21525 non-null  object \n",
      " 8   income_type       21525 non-null  object \n",
      " 9   debt              21525 non-null  int64  \n",
      " 10  total_income      19351 non-null  float64\n",
      " 11  purpose           21525 non-null  object \n",
      "dtypes: float64(2), int64(5), object(5)\n",
      "memory usage: 2.0+ MB\n"
     ]
    }
   ],
   "source": [
    "data.info()"
   ]
  },
  {
   "cell_type": "markdown",
   "id": "5845a2e6",
   "metadata": {
    "deletable": false,
    "editable": false,
    "id": "333ec665"
   },
   "source": [
    "## Предобработка данных"
   ]
  },
  {
   "cell_type": "markdown",
   "id": "827c98d1",
   "metadata": {
    "deletable": false,
    "editable": false,
    "id": "02d92d53"
   },
   "source": [
    "### Удаление пропусков"
   ]
  },
  {
   "cell_type": "markdown",
   "id": "28bdbdea",
   "metadata": {
    "deletable": false,
    "editable": false,
    "id": "cd84967c"
   },
   "source": [
    "**Задание 4. Выведите количество пропущенных значений для каждого столбца. Используйте комбинацию двух методов.**"
   ]
  },
  {
   "cell_type": "code",
   "execution_count": 4,
   "id": "951cafa5",
   "metadata": {
    "deletable": false,
    "id": "7f9b2309",
    "outputId": "81f4d817-781c-465c-ed15-91ce4446810d"
   },
   "outputs": [
    {
     "data": {
      "text/plain": [
       "children               0\n",
       "days_employed       2174\n",
       "dob_years              0\n",
       "education              0\n",
       "education_id           0\n",
       "family_status          0\n",
       "family_status_id       0\n",
       "gender                 0\n",
       "income_type            0\n",
       "debt                   0\n",
       "total_income        2174\n",
       "purpose                0\n",
       "dtype: int64"
      ]
     },
     "execution_count": 4,
     "metadata": {},
     "output_type": "execute_result"
    }
   ],
   "source": [
    "data.isna().sum()"
   ]
  },
  {
   "cell_type": "markdown",
   "id": "a2f9dbe1",
   "metadata": {
    "deletable": false,
    "editable": false,
    "id": "db86e27b"
   },
   "source": [
    "**Задание 5. В двух столбцах есть пропущенные значения. Один из них — `days_employed`. Пропуски в этом столбце вы обработаете на следующем этапе. Другой столбец с пропущенными значениями — `total_income` — хранит данные о доходах. На сумму дохода сильнее всего влияет тип занятости, поэтому заполнить пропуски в этом столбце нужно медианным значением по каждому типу из столбца `income_type`. Например, у человека с типом занятости `сотрудник` пропуск в столбце `total_income` должен быть заполнен медианным доходом среди всех записей с тем же типом.**"
   ]
  },
  {
   "cell_type": "code",
   "execution_count": 5,
   "id": "2dd2d6b3",
   "metadata": {
    "deletable": false,
    "id": "42006a93"
   },
   "outputs": [],
   "source": [
    "for t in data['income_type'].unique():\n",
    "    data.loc[(data['income_type'] == t) & (data['total_income'].isna()), 'total_income'] = \\\n",
    "    data.loc[(data['income_type'] == t), 'total_income'].median()"
   ]
  },
  {
   "cell_type": "markdown",
   "id": "743aab6a",
   "metadata": {
    "deletable": false,
    "editable": false,
    "id": "89da5ece"
   },
   "source": [
    "### Обработка аномальных значений"
   ]
  },
  {
   "cell_type": "markdown",
   "id": "f753c140",
   "metadata": {
    "deletable": false,
    "editable": false,
    "id": "57964554"
   },
   "source": [
    "**Задание 6. В данных могут встречаться артефакты (аномалии) — значения, которые не отражают действительность и появились по какой-то ошибке. таким артефактом будет отрицательное количество дней трудового стажа в столбце `days_employed`. Для реальных данных это нормально. Обработайте значения в этом столбце: замените все отрицательные значения положительными с помощью метода `abs()`.**"
   ]
  },
  {
   "cell_type": "code",
   "execution_count": 6,
   "id": "49ef4957",
   "metadata": {
    "deletable": false,
    "id": "f6f055bf"
   },
   "outputs": [],
   "source": [
    "data['days_employed'] = data['days_employed'].abs()"
   ]
  },
  {
   "cell_type": "markdown",
   "id": "d5a3eaa2",
   "metadata": {
    "deletable": false,
    "editable": false,
    "id": "6107dd2f"
   },
   "source": [
    "**Задание 7. Для каждого типа занятости выведите медианное значение трудового стажа `days_employed` в днях.**"
   ]
  },
  {
   "cell_type": "code",
   "execution_count": 7,
   "id": "15eed131",
   "metadata": {
    "deletable": false,
    "id": "85a5faf6",
    "outputId": "801ef80e-522b-4668-f34e-565af7432bcf"
   },
   "outputs": [
    {
     "data": {
      "text/plain": [
       "income_type\n",
       "безработный        366413.652744\n",
       "в декрете            3296.759962\n",
       "госслужащий          2689.368353\n",
       "компаньон            1547.382223\n",
       "пенсионер          365213.306266\n",
       "предприниматель       520.848083\n",
       "сотрудник            1574.202821\n",
       "студент               578.751554\n",
       "Name: days_employed, dtype: float64"
      ]
     },
     "execution_count": 7,
     "metadata": {},
     "output_type": "execute_result"
    }
   ],
   "source": [
    "data.groupby('income_type')['days_employed'].agg('median')"
   ]
  },
  {
   "cell_type": "markdown",
   "id": "c86ab71f",
   "metadata": {
    "deletable": false,
    "editable": false,
    "id": "38d1a030"
   },
   "source": [
    "У двух типов (безработные и пенсионеры) получатся аномально большие значения. Исправить такие значения сложно, поэтому оставьте их как есть. Тем более этот столбец не понадобится вам для исследования."
   ]
  },
  {
   "cell_type": "markdown",
   "id": "3ecee7d9",
   "metadata": {
    "deletable": false,
    "editable": false,
    "id": "d8a9f147"
   },
   "source": [
    "**Задание 8. Выведите перечень уникальных значений столбца `children`.**"
   ]
  },
  {
   "cell_type": "code",
   "execution_count": 8,
   "id": "ca39c45e",
   "metadata": {
    "deletable": false,
    "id": "ef5056eb",
    "outputId": "6975b15c-7f95-4697-d16d-a0c79b657b03"
   },
   "outputs": [
    {
     "data": {
      "text/plain": [
       "array([ 1,  0,  3,  2, -1,  4, 20,  5])"
      ]
     },
     "execution_count": 8,
     "metadata": {},
     "output_type": "execute_result"
    }
   ],
   "source": [
    "data['children'].unique()"
   ]
  },
  {
   "cell_type": "markdown",
   "id": "228e3feb",
   "metadata": {
    "deletable": false,
    "editable": false,
    "id": "40b9ebf2"
   },
   "source": [
    "**Задание 9. В столбце `children` есть два аномальных значения. Удалите строки, в которых встречаются такие аномальные значения из датафрейма `data`.**"
   ]
  },
  {
   "cell_type": "code",
   "execution_count": 9,
   "id": "11081c80",
   "metadata": {
    "deletable": false,
    "id": "3ff9801d"
   },
   "outputs": [],
   "source": [
    "data = data[(data['children'] != -1) & (data['children'] != 20)]"
   ]
  },
  {
   "cell_type": "markdown",
   "id": "01bd6ba0",
   "metadata": {
    "deletable": false,
    "editable": false,
    "id": "bbc4d0ce"
   },
   "source": [
    "**Задание 10. Ещё раз выведите перечень уникальных значений столбца `children`, чтобы убедиться, что артефакты удалены.**"
   ]
  },
  {
   "cell_type": "code",
   "execution_count": 10,
   "id": "aa2abca8",
   "metadata": {
    "deletable": false,
    "id": "ad4fa8b7",
    "outputId": "b2097101-d49d-44d9-901b-32a65c9463d1"
   },
   "outputs": [
    {
     "data": {
      "text/plain": [
       "array([1, 0, 3, 2, 4, 5])"
      ]
     },
     "execution_count": 10,
     "metadata": {},
     "output_type": "execute_result"
    }
   ],
   "source": [
    "data['children'].unique()"
   ]
  },
  {
   "cell_type": "markdown",
   "id": "3e2d6022",
   "metadata": {
    "deletable": false,
    "editable": false,
    "id": "75440b63"
   },
   "source": [
    "### Удаление пропусков (продолжение)"
   ]
  },
  {
   "cell_type": "markdown",
   "id": "234e686e",
   "metadata": {
    "deletable": false,
    "editable": false,
    "id": "f4ea573f"
   },
   "source": [
    "**Задание 11. Заполните пропуски в столбце `days_employed` медианными значениями по каждого типа занятости `income_type`.**"
   ]
  },
  {
   "cell_type": "code",
   "execution_count": 11,
   "id": "246340ff",
   "metadata": {
    "deletable": false,
    "id": "af6b1a7e"
   },
   "outputs": [],
   "source": [
    "for t in data['income_type'].unique():\n",
    "    data.loc[(data['income_type'] == t) & (data['days_employed'].isna()), 'days_employed'] = \\\n",
    "    data.loc[(data['income_type'] == t), 'days_employed'].median()"
   ]
  },
  {
   "cell_type": "markdown",
   "id": "a374c704",
   "metadata": {
    "deletable": false,
    "editable": false,
    "id": "2753f40d"
   },
   "source": [
    "**Задание 12. Убедитесь, что все пропуски заполнены. Проверьте себя и ещё раз выведите количество пропущенных значений для каждого столбца с помощью двух методов.**"
   ]
  },
  {
   "cell_type": "code",
   "execution_count": 12,
   "id": "2d6b77d8",
   "metadata": {
    "deletable": false,
    "id": "55f78bc2",
    "outputId": "8da1e4e1-358e-4e87-98c9-f261bce0a7b2"
   },
   "outputs": [
    {
     "data": {
      "text/plain": [
       "children            0\n",
       "days_employed       0\n",
       "dob_years           0\n",
       "education           0\n",
       "education_id        0\n",
       "family_status       0\n",
       "family_status_id    0\n",
       "gender              0\n",
       "income_type         0\n",
       "debt                0\n",
       "total_income        0\n",
       "purpose             0\n",
       "dtype: int64"
      ]
     },
     "execution_count": 12,
     "metadata": {},
     "output_type": "execute_result"
    }
   ],
   "source": [
    "data.isna().sum()"
   ]
  },
  {
   "cell_type": "markdown",
   "id": "87f4e9ff",
   "metadata": {
    "deletable": false,
    "editable": false,
    "id": "ddc81e43"
   },
   "source": [
    "### Изменение типов данных"
   ]
  },
  {
   "cell_type": "markdown",
   "id": "eb414dce",
   "metadata": {
    "deletable": false,
    "editable": false,
    "id": "42d19d24"
   },
   "source": [
    "**Задание 13. Замените вещественный тип данных в столбце `total_income` на целочисленный с помощью метода `astype()`.**"
   ]
  },
  {
   "cell_type": "code",
   "execution_count": 13,
   "id": "27b67abf",
   "metadata": {
    "deletable": false,
    "id": "920b65ad"
   },
   "outputs": [],
   "source": [
    "data['total_income'] = data['total_income'].astype(int)"
   ]
  },
  {
   "cell_type": "markdown",
   "id": "0e2c1c4d",
   "metadata": {
    "deletable": false,
    "editable": false,
    "id": "80c420ba"
   },
   "source": [
    "### Обработка дубликатов"
   ]
  },
  {
   "cell_type": "markdown",
   "id": "5b5fa4ea",
   "metadata": {
    "deletable": false,
    "editable": false
   },
   "source": [
    "**Задание 14. Обработайте неявные дубликаты в столбце `education`. В этом столбце есть одни и те же значения, но записанные по-разному: с использованием заглавных и строчных букв. Приведите их к нижнему регистру. Проверьте остальные столбцы.**"
   ]
  },
  {
   "cell_type": "code",
   "execution_count": 14,
   "id": "7f7b70a6",
   "metadata": {
    "deletable": false
   },
   "outputs": [],
   "source": [
    "data['education'] = data['education'].str.lower()"
   ]
  },
  {
   "cell_type": "markdown",
   "id": "1ffdd612",
   "metadata": {
    "deletable": false,
    "editable": false,
    "id": "dc587695"
   },
   "source": [
    "**Задание 15. Выведите на экран количество строк-дубликатов в данных. Если такие строки присутствуют, удалите их.**"
   ]
  },
  {
   "cell_type": "code",
   "execution_count": 15,
   "id": "c060d889",
   "metadata": {
    "deletable": false,
    "id": "3ee445e4",
    "outputId": "9684deba-1934-42d1-99e1-cda61740f822"
   },
   "outputs": [
    {
     "data": {
      "text/plain": [
       "71"
      ]
     },
     "execution_count": 15,
     "metadata": {},
     "output_type": "execute_result"
    }
   ],
   "source": [
    "data.duplicated().sum()"
   ]
  },
  {
   "cell_type": "code",
   "execution_count": 16,
   "id": "4182ac2d",
   "metadata": {
    "deletable": false,
    "id": "8575fe05"
   },
   "outputs": [],
   "source": [
    "data = data.drop_duplicates()"
   ]
  },
  {
   "cell_type": "markdown",
   "id": "9903bdc5",
   "metadata": {
    "deletable": false,
    "editable": false,
    "id": "9904cf55"
   },
   "source": [
    "### Категоризация данных"
   ]
  },
  {
   "cell_type": "markdown",
   "id": "43fd1ac4",
   "metadata": {
    "deletable": false,
    "editable": false,
    "id": "72fcc8a2"
   },
   "source": [
    "**Задание 16. На основании диапазонов, указанных ниже, создайте в датафрейме `data` столбец `total_income_category` с категориями:**\n",
    "\n",
    "- 0–30000 — `'E'`;\n",
    "- 30001–50000 — `'D'`;\n",
    "- 50001–200000 — `'C'`;\n",
    "- 200001–1000000 — `'B'`;\n",
    "- 1000001 и выше — `'A'`.\n",
    "\n",
    "\n",
    "**Например, кредитополучателю с доходом 25000 нужно назначить категорию `'E'`, а клиенту, получающему 235000, — `'B'`. Используйте собственную функцию с именем `categorize_income()` и метод `apply()`.**"
   ]
  },
  {
   "cell_type": "code",
   "execution_count": 17,
   "id": "30414603",
   "metadata": {
    "deletable": false,
    "id": "e1771346"
   },
   "outputs": [],
   "source": [
    "def categorize_income(income):\n",
    "    try:\n",
    "        if 0 <= income <= 30000:\n",
    "            return 'E'\n",
    "        elif 30001 <= income <= 50000:\n",
    "            return 'D'\n",
    "        elif 50001 <= income <= 200000:\n",
    "            return 'C'\n",
    "        elif 200001 <= income <= 1000000:\n",
    "            return 'B'\n",
    "        elif income >= 1000001:\n",
    "            return 'A'\n",
    "    except:\n",
    "        pass"
   ]
  },
  {
   "cell_type": "code",
   "execution_count": 18,
   "id": "d37be24f",
   "metadata": {
    "deletable": false,
    "id": "d5f3586d"
   },
   "outputs": [],
   "source": [
    "data['total_income_category'] = data['total_income'].apply(categorize_income)"
   ]
  },
  {
   "cell_type": "markdown",
   "id": "4c43ee4e",
   "metadata": {
    "deletable": false,
    "editable": false,
    "id": "dde49b5c"
   },
   "source": [
    "**Задание 17. Выведите на экран перечень уникальных целей взятия кредита из столбца `purpose`.**"
   ]
  },
  {
   "cell_type": "code",
   "execution_count": 19,
   "id": "5ba608ff",
   "metadata": {
    "deletable": false,
    "id": "f67ce9b3",
    "outputId": "673c12d9-7d7e-4ae0-9812-c622c89dd244"
   },
   "outputs": [
    {
     "data": {
      "text/plain": [
       "array(['покупка жилья', 'приобретение автомобиля',\n",
       "       'дополнительное образование', 'сыграть свадьбу',\n",
       "       'операции с жильем', 'образование', 'на проведение свадьбы',\n",
       "       'покупка жилья для семьи', 'покупка недвижимости',\n",
       "       'покупка коммерческой недвижимости', 'покупка жилой недвижимости',\n",
       "       'строительство собственной недвижимости', 'недвижимость',\n",
       "       'строительство недвижимости', 'на покупку подержанного автомобиля',\n",
       "       'на покупку своего автомобиля',\n",
       "       'операции с коммерческой недвижимостью',\n",
       "       'строительство жилой недвижимости', 'жилье',\n",
       "       'операции со своей недвижимостью', 'автомобили',\n",
       "       'заняться образованием', 'сделка с подержанным автомобилем',\n",
       "       'получение образования', 'автомобиль', 'свадьба',\n",
       "       'получение дополнительного образования', 'покупка своего жилья',\n",
       "       'операции с недвижимостью', 'получение высшего образования',\n",
       "       'свой автомобиль', 'сделка с автомобилем',\n",
       "       'профильное образование', 'высшее образование',\n",
       "       'покупка жилья для сдачи', 'на покупку автомобиля', 'ремонт жилью',\n",
       "       'заняться высшим образованием'], dtype=object)"
      ]
     },
     "execution_count": 19,
     "metadata": {},
     "output_type": "execute_result"
    }
   ],
   "source": [
    "data['purpose'].unique()"
   ]
  },
  {
   "cell_type": "markdown",
   "id": "74f7a913",
   "metadata": {
    "deletable": false,
    "editable": false,
    "id": "85d0aef0"
   },
   "source": [
    "**Задание 18. Создайте функцию, которая на основании данных из столбца `purpose` сформирует новый столбец `purpose_category`, в который войдут следующие категории:**\n",
    "\n",
    "- `'операции с автомобилем'`,\n",
    "- `'операции с недвижимостью'`,\n",
    "- `'проведение свадьбы'`,\n",
    "- `'получение образования'`.\n",
    "\n",
    "**Например, если в столбце `purpose` находится подстрока `'на покупку автомобиля'`, то в столбце `purpose_category` должна появиться строка `'операции с автомобилем'`.**\n",
    "\n",
    "**Используйте собственную функцию с именем `categorize_purpose()` и метод `apply()`. Изучите данные в столбце `purpose` и определите, какие подстроки помогут вам правильно определить категорию.**"
   ]
  },
  {
   "cell_type": "code",
   "execution_count": 20,
   "id": "d5a30ffe",
   "metadata": {
    "deletable": false,
    "id": "e149fab4"
   },
   "outputs": [],
   "source": [
    "def categorize_purpose(row):\n",
    "    try:\n",
    "        if 'автом' in row:\n",
    "            return 'операции с автомобилем'\n",
    "        elif 'жил' in row or 'недвиж' in row:\n",
    "            return 'операции с недвижимостью'\n",
    "        elif 'свад' in row:\n",
    "            return 'проведение свадьбы'\n",
    "        elif 'образов' in row:\n",
    "            return 'получение образования'\n",
    "    except:\n",
    "        return 'нет категории'"
   ]
  },
  {
   "cell_type": "code",
   "execution_count": 21,
   "id": "a2552e09",
   "metadata": {
    "deletable": false,
    "id": "bf36e69b"
   },
   "outputs": [],
   "source": [
    "data['purpose_category'] = data['purpose'].apply(categorize_purpose)"
   ]
  },
  {
   "cell_type": "markdown",
   "id": "f444b8b3",
   "metadata": {
    "deletable": false,
    "editable": false,
    "id": "09b242bf"
   },
   "source": [
    "### Шаг 3. Исследуйте данные и ответьте на вопросы"
   ]
  },
  {
   "cell_type": "markdown",
   "id": "dfa5254f",
   "metadata": {
    "deletable": false,
    "editable": false,
    "id": "c5d66278"
   },
   "source": [
    "#### 3.1 Есть ли зависимость между количеством детей и возвратом кредита в срок?"
   ]
  },
  {
   "cell_type": "code",
   "execution_count": 22,
   "id": "04f9e887",
   "metadata": {
    "deletable": false,
    "id": "2cacfc4a"
   },
   "outputs": [
    {
     "name": "stdout",
     "output_type": "stream",
     "text": [
      "           Sum  Count\n",
      "children             \n",
      "0         1063  14091\n",
      "1          444   4808\n",
      "2          194   2052\n",
      "3           27    330\n",
      "4            4     41\n",
      "5            0      9\n"
     ]
    }
   ],
   "source": [
    "chil_debt = data.groupby('children')['debt'].agg(Sum = 'sum', Count = 'count')\n",
    "print(chil_debt)\n",
    "\n",
    "# Ваш код будет здесь. Вы можете создавать новые ячейки."
   ]
  },
  {
   "cell_type": "code",
   "execution_count": 23,
   "id": "af954585",
   "metadata": {},
   "outputs": [
    {
     "name": "stdout",
     "output_type": "stream",
     "text": [
      "           sum  count      mean\n",
      "          debt   debt      debt\n",
      "children                       \n",
      "0         1063  14091  0.075438\n",
      "1          444   4808  0.092346\n",
      "2          194   2052  0.094542\n",
      "3           27    330  0.081818\n",
      "4            4     41  0.097561\n",
      "5            0      9  0.000000\n"
     ]
    }
   ],
   "source": [
    "pivot_chil = data.pivot_table(index = 'children', values = 'debt', aggfunc = ['sum', 'count', 'mean'])\n",
    "print(pivot_chil.head(6))"
   ]
  },
  {
   "cell_type": "markdown",
   "id": "983b543d",
   "metadata": {
    "deletable": false,
    "id": "3a6b99ec"
   },
   "source": [
    "**Вывод:** \"В первом расчете мы получили абсолютные значения, однако они могут быть нерепрезентативными, поскольку количество клиентов неравномерно распределено относительно количества детей. \n",
    "Во втором расчете мы можем уже проследить динамику, между возвратом кредита в срок и количеством детей. В общем разница есть, но она не существенная\n",
    "Семьи у которых 3 или 5 детей, и семьи, у которых детей нет, либо не допускают вовсе, либо допускают незначительно просрочку кредита.Люди, у которых 1-2 ребенка, в целом допускают практически одинаковую просрочку по кредитам.\"\n",
    "Если оценивать еще более точно, то хорошо видна зависимость процента возврата от кол-ва детей. \n",
    "Как видно при наличии даже одного ребенка вероятность невозврата  резко возрастает. Также можно выдвинуть гипотезу, \n",
    "если кол-во клиентов с 3 детьми будет больше для сравнения, то и вероятность невозврата также вырастет.\n"
   ]
  },
  {
   "cell_type": "markdown",
   "id": "45193f76",
   "metadata": {
    "deletable": false,
    "editable": false,
    "id": "97be82ca"
   },
   "source": [
    "#### 3.2 Есть ли зависимость между семейным положением и возвратом кредита в срок?"
   ]
  },
  {
   "cell_type": "code",
   "execution_count": 24,
   "id": "48f10b68",
   "metadata": {
    "deletable": false,
    "id": "dc3f7ee8"
   },
   "outputs": [],
   "source": [
    "data_family = data[['family_status','family_status_id']] \n",
    "data_family = data_family.drop_duplicates().reset_index(drop=True)\n",
    "borrowers = data.groupby('family_status_id')['debt'].count().reset_index() #Вычисляем количество заёмщиков в каждой группе\n",
    "overdue_loans = data[data['debt'] == 1].groupby('family_status_id')['debt'].count().reset_index() #Вычисляем количество просроченных кредитов в каждой группе\n",
    "# Ваш код будет здесь. Вы можете создавать новые ячейки."
   ]
  },
  {
   "cell_type": "code",
   "execution_count": 25,
   "id": "6ac43733",
   "metadata": {},
   "outputs": [
    {
     "data": {
      "text/html": [
       "<div>\n",
       "<style scoped>\n",
       "    .dataframe tbody tr th:only-of-type {\n",
       "        vertical-align: middle;\n",
       "    }\n",
       "\n",
       "    .dataframe tbody tr th {\n",
       "        vertical-align: top;\n",
       "    }\n",
       "\n",
       "    .dataframe thead th {\n",
       "        text-align: right;\n",
       "    }\n",
       "</style>\n",
       "<table border=\"1\" class=\"dataframe\">\n",
       "  <thead>\n",
       "    <tr style=\"text-align: right;\">\n",
       "      <th></th>\n",
       "      <th>family_status_id</th>\n",
       "      <th>Mean</th>\n",
       "      <th>family_status</th>\n",
       "      <th>borrowers</th>\n",
       "      <th>overdue_loans</th>\n",
       "    </tr>\n",
       "  </thead>\n",
       "  <tbody>\n",
       "    <tr>\n",
       "      <th>4</th>\n",
       "      <td>4</td>\n",
       "      <td>0.097639</td>\n",
       "      <td>Не женат / не замужем</td>\n",
       "      <td>2796</td>\n",
       "      <td>273</td>\n",
       "    </tr>\n",
       "    <tr>\n",
       "      <th>1</th>\n",
       "      <td>1</td>\n",
       "      <td>0.093130</td>\n",
       "      <td>гражданский брак</td>\n",
       "      <td>4134</td>\n",
       "      <td>385</td>\n",
       "    </tr>\n",
       "    <tr>\n",
       "      <th>0</th>\n",
       "      <td>0</td>\n",
       "      <td>0.075606</td>\n",
       "      <td>женат / замужем</td>\n",
       "      <td>12261</td>\n",
       "      <td>927</td>\n",
       "    </tr>\n",
       "    <tr>\n",
       "      <th>3</th>\n",
       "      <td>3</td>\n",
       "      <td>0.070648</td>\n",
       "      <td>в разводе</td>\n",
       "      <td>1189</td>\n",
       "      <td>84</td>\n",
       "    </tr>\n",
       "    <tr>\n",
       "      <th>2</th>\n",
       "      <td>2</td>\n",
       "      <td>0.066246</td>\n",
       "      <td>вдовец / вдова</td>\n",
       "      <td>951</td>\n",
       "      <td>63</td>\n",
       "    </tr>\n",
       "  </tbody>\n",
       "</table>\n",
       "</div>"
      ],
      "text/plain": [
       "   family_status_id      Mean          family_status  borrowers  overdue_loans\n",
       "4                 4  0.097639  Не женат / не замужем       2796            273\n",
       "1                 1  0.093130       гражданский брак       4134            385\n",
       "0                 0  0.075606        женат / замужем      12261            927\n",
       "3                 3  0.070648              в разводе       1189             84\n",
       "2                 2  0.066246         вдовец / вдова        951             63"
      ]
     },
     "execution_count": 25,
     "metadata": {},
     "output_type": "execute_result"
    }
   ],
   "source": [
    "# grouped_data = data.groupby('family_status_id')['debt'].agg(Mean='mean')\n",
    "# merged_data = grouped_data.merge(right=data_family, on='family_status_id', how='left')\n",
    "# sorted_data = merged_data.sort_values(by='Mean', ascending=False)\n",
    "# final_data = sorted_data.assign(borrowers=data.groupby('family_status_id')['debt'].count(),\n",
    "                                # overdue_loans=data[data['debt'] == 1].groupby('family_status_id')['debt'].count())\n",
    "# print(final_data)    \n",
    "\n",
    "data.groupby('family_status_id')['debt'] \\\n",
    "    .agg(Mean='mean') \\\n",
    "    .merge(right=data_family, on='family_status_id', how='left') \\\n",
    "    .sort_values(by='Mean', ascending=False) \\\n",
    "    .assign(borrowers=data.groupby('family_status_id')['debt'].count(),\n",
    "            overdue_loans=data[data['debt'] == 1].groupby('family_status_id')['debt'].count())"
   ]
  },
  {
   "cell_type": "markdown",
   "id": "a9c41bee",
   "metadata": {
    "deletable": false,
    "id": "1cef7837"
   },
   "source": [
    "**Вывод:** Количество неженатых клиентов или клиентов в гражданском браке реже возвращают кредит в срок, чем клиенты остальных категорий."
   ]
  },
  {
   "cell_type": "markdown",
   "id": "8bb4987f",
   "metadata": {},
   "source": [
    "В данных наблюдается зависимость вероятности возврата кредита в срок от семейного статуса заёмщика. \n",
    "Клиенты, не состоящие в браке или проживающие в гражданском браке имеют наиболее высокую долю невозвратности кредитов. \n",
    "Это может быть связано с возрастом, финансовой состоятельностью, отсутсвием каких-то рамок. \n",
    "Клиенты, находящиеся в браке, имеют не самую хорошую, но и не самую плохую кредитную историю. \n",
    "Могут играть роль такие факторы, как наличие детей и финансовые трудности, также могут помогать друг другу. \n",
    "Стоит отметить, что это основная группа клиентов в выборке (более половины).\n",
    "Клиенты, находящиеся в разводе, имеют более низкую долю невозвратности кредитов, чем замужние. Для нас это некоторое удивление, \n",
    "так как по факту они потеряли некоторую поддержку.\n",
    "Однако ,возможно это связано с психологией и желанием закрыть вопросы из прошлой жизни, а также получением алиментов или средств по суду.\n",
    "Также стоит отметить, что таких клиентов относительно немного, чем в категории замужних. \n",
    "Клиенты, которые потеряли супруга, имеют самую низкую долю невозврата кредита. \n",
    "Из двух последних категорий, можно сделать вывод, что внезапная(ожидаемая) потеря партнера (возможно тут либо получают алименты \n",
    "либо наследство), является улучшаюшим фактором для снижения риска невозврата.\n",
    "Исходя из всего вышеперечисленного, можно сделать вывод, что семейный статус может быть важным фактором, \n",
    "влияющим на возвратность кредитов."
   ]
  },
  {
   "cell_type": "markdown",
   "id": "da48e8b6",
   "metadata": {
    "deletable": false,
    "editable": false,
    "id": "1e8b2fca"
   },
   "source": [
    "#### 3.3 Есть ли зависимость между уровнем дохода и возвратом кредита в срок?"
   ]
  },
  {
   "cell_type": "code",
   "execution_count": 26,
   "id": "63cc45e0",
   "metadata": {
    "deletable": false,
    "id": "cd7e3720"
   },
   "outputs": [
    {
     "name": "stdout",
     "output_type": "stream",
     "text": [
      "  total_income_category  mean_debt  borrowers_1  overdue_loans_1\n",
      "4                     E   9.090909           22                2\n",
      "2                     C   8.498210        15921             1353\n",
      "0                     A   8.000000           25                2\n",
      "1                     B   7.060231         5014              354\n",
      "3                     D   6.017192          349               21\n"
     ]
    }
   ],
   "source": [
    "#data.groupby('total_income_category')['debt'] \\\n",
    "    #.mean() \\\n",
    "    #.sort_values(ascending=False) * 100 \\\n",
    "    \n",
    "borrowers_1 = data.groupby('total_income_category')['debt'].count().reset_index() #Вычисляем количество заёмщиков в каждой группе\n",
    "overdue_loans_1 = data[data['debt'] == 1].groupby('total_income_category')['debt'].count().reset_index() #Вычисляем количество просроченных кредитов в каждой группе\n",
    "\n",
    "result = data.groupby('total_income_category')['debt'].mean().reset_index() \\\n",
    "            .merge(borrowers_1, on='total_income_category') \\\n",
    "            .merge(overdue_loans_1, on='total_income_category')\n",
    "result.columns = ['total_income_category', 'mean_debt', 'borrowers_1', 'overdue_loans_1']\n",
    "result['mean_debt'] = result['mean_debt'] * 100\n",
    "result = result.sort_values(by='mean_debt', ascending=False)\n",
    "print(result)\n",
    "   \n",
    "# Ваш код будет здесь. Вы можете создавать новые ячейки."
   ]
  },
  {
   "cell_type": "markdown",
   "id": "d815a61e",
   "metadata": {
    "deletable": false,
    "id": "e8593def"
   },
   "source": [
    "**Вывод:** В группе риска находятся клиенты, которые имеют условный \"средний\" доход от 50 до 200. \n",
    "Для решения по ним, дополнительно можно посмотреть в каких других группах они состоят(дети, семейный статус). Также еще раз отмечу,\n",
    "на мой взгляд следует сделать разброс дохода намного меньше для этой категории.\n",
    "Клиенты с доходом от 200 до 1000 наиболее благоприятны для банка, так как это скорее всего либо топ-менеджеры либо предприниматели."
   ]
  },
  {
   "cell_type": "markdown",
   "id": "55ba680f",
   "metadata": {
    "deletable": false,
    "editable": false,
    "id": "99ecbd1f"
   },
   "source": [
    "#### 3.4 Как разные цели кредита влияют на его возврат в срок?"
   ]
  },
  {
   "cell_type": "code",
   "execution_count": 28,
   "id": "bb5e0f26",
   "metadata": {
    "deletable": false,
    "id": "2b687290"
   },
   "outputs": [
    {
     "name": "stdout",
     "output_type": "stream",
     "text": [
      "                          total  value      %\n",
      "purpose_category                             \n",
      "операции с недвижимостью  10751    780  0.073\n",
      "проведение свадьбы         2313    183  0.079\n",
      "операции с автомобилем     4279    400  0.093\n",
      "получение образования      3988    369  0.093\n"
     ]
    }
   ],
   "source": [
    "value = data.pivot_table(index = ['purpose_category'], values = 'debt', aggfunc = {'count','sum'})\n",
    "value = value.rename(columns={'count':'total','sum':'value'})\n",
    "value['%'] = round(value['value'] / value['total'], 3)\n",
    "value = value.sort_values(by='%', ascending=True)\n",
    "print(value)\n"
   ]
  },
  {
   "cell_type": "markdown",
   "id": "f1a8f182",
   "metadata": {
    "deletable": false,
    "id": "b4bb2ce6"
   },
   "source": [
    "**Вывод:** В случае с клиентами, которые стремятся к созданию семьи или приобретению своей недвижимости, вероятность возврата кредита заметно выше, чем у клиентов, которые берут потребительский кредит на вещи существенно ниже по стоимости. Здесь, вероятно, играет роль величина суммы кредита"
   ]
  },
  {
   "cell_type": "markdown",
   "id": "948acfe5",
   "metadata": {
    "deletable": false,
    "editable": false,
    "id": "09c3ac4c"
   },
   "source": [
    "#### 3.5 Приведите возможные причины появления пропусков в исходных данных."
   ]
  },
  {
   "cell_type": "markdown",
   "id": "d4a5abe4",
   "metadata": {
    "deletable": false,
    "id": "9da2ceda"
   },
   "source": [
    "*Ответ:* пропуски здесь были в столбцах days_employed и total_income. Количество пропусков в столбцах одинаковы, можно сделать вывод, что заполнение одного из столбцов влияет на заполненность другого столбца. Пропуски могут быть из-за качества ответов, кто-то сознательно пропустил вопрос для анкеты, так же данный момент может быть связан с внимательностью."
   ]
  },
  {
   "cell_type": "markdown",
   "id": "0c80b651",
   "metadata": {
    "deletable": false,
    "editable": false,
    "id": "7b0487d6"
   },
   "source": [
    "#### 3.6 Объясните, почему заполнить пропуски медианным значением — лучшее решение для количественных переменных."
   ]
  },
  {
   "cell_type": "markdown",
   "id": "628883de",
   "metadata": {
    "deletable": false,
    "id": "7ecf2b8e"
   },
   "source": [
    "*Ответ:* медианное значение лучше всего отражает выборку в целом, в случае, если есть незаполненные данные. Среднее арифметическое отражает ситуацию некорректно, так как не учитывает разброс данных."
   ]
  },
  {
   "cell_type": "markdown",
   "id": "38ca4d39",
   "metadata": {
    "deletable": false,
    "editable": false,
    "id": "6db5255a"
   },
   "source": [
    "### Шаг 4: общий вывод."
   ]
  },
  {
   "cell_type": "markdown",
   "id": "6db21f4b",
   "metadata": {
    "deletable": false,
    "id": "bad65432"
   },
   "source": [
    "Напишите ваш общий вывод.\n",
    "Выгоднее всего давать кредиты на недвижимость, автомобиль и образование - в зоне риска. Идеальный заемщик - это человек без детей, состоящий или состоявший в официальных отношениях, имеющий уровень дохода выше среднего и берущий деньги на недвижимость.\n",
    "В результате анализа, прослеживается небольшая корреляция. Нет очевидной взаимосвязи, но возможно, что те, кто просрочат кредит, вероятно будут иметь 4 детей, могут быть в гражданском браке, не состоять в браке и иметь низкий доход. Для возврата кредита в срок может понадобиться несколько факторов, в частности отсутствие брака, повышение дохода и меньшее количество детей."
   ]
  },
  {
   "cell_type": "code",
   "execution_count": null,
   "id": "6af2b84d",
   "metadata": {},
   "outputs": [],
   "source": []
  }
 ],
 "metadata": {
  "ExecuteTimeLog": [
   {
    "duration": 50,
    "start_time": "2023-03-01T14:41:50.381Z"
   },
   {
    "duration": 7,
    "start_time": "2023-03-01T14:42:33.956Z"
   },
   {
    "duration": 446,
    "start_time": "2023-03-01T14:42:41.900Z"
   },
   {
    "duration": 23,
    "start_time": "2023-03-01T14:42:42.348Z"
   },
   {
    "duration": 15,
    "start_time": "2023-03-01T14:42:42.373Z"
   },
   {
    "duration": 11,
    "start_time": "2023-03-01T14:42:42.390Z"
   },
   {
    "duration": 57,
    "start_time": "2023-03-01T14:42:42.402Z"
   },
   {
    "duration": 3,
    "start_time": "2023-03-01T14:42:42.461Z"
   },
   {
    "duration": 11,
    "start_time": "2023-03-01T14:42:42.466Z"
   },
   {
    "duration": 6,
    "start_time": "2023-03-01T14:42:42.478Z"
   },
   {
    "duration": 10,
    "start_time": "2023-03-01T14:42:42.485Z"
   },
   {
    "duration": 4,
    "start_time": "2023-03-01T14:42:42.498Z"
   },
   {
    "duration": 60,
    "start_time": "2023-03-01T14:42:42.503Z"
   },
   {
    "duration": 10,
    "start_time": "2023-03-01T14:42:42.565Z"
   },
   {
    "duration": 9,
    "start_time": "2023-03-01T14:42:42.576Z"
   },
   {
    "duration": 18,
    "start_time": "2023-03-01T14:42:42.586Z"
   },
   {
    "duration": 24,
    "start_time": "2023-03-01T14:42:42.605Z"
   },
   {
    "duration": 30,
    "start_time": "2023-03-01T14:42:42.631Z"
   },
   {
    "duration": 3,
    "start_time": "2023-03-01T14:42:42.663Z"
   },
   {
    "duration": 36,
    "start_time": "2023-03-01T14:42:42.668Z"
   },
   {
    "duration": 14,
    "start_time": "2023-03-01T14:42:42.706Z"
   },
   {
    "duration": 17,
    "start_time": "2023-03-01T14:42:42.722Z"
   },
   {
    "duration": 19,
    "start_time": "2023-03-01T14:42:42.741Z"
   },
   {
    "duration": 13,
    "start_time": "2023-03-01T14:42:42.761Z"
   },
   {
    "duration": 22,
    "start_time": "2023-03-01T14:42:42.776Z"
   },
   {
    "duration": 13,
    "start_time": "2023-03-01T14:42:42.800Z"
   },
   {
    "duration": 23,
    "start_time": "2023-03-01T14:42:42.815Z"
   },
   {
    "duration": 6,
    "start_time": "2023-03-01T14:42:49.274Z"
   },
   {
    "duration": 5,
    "start_time": "2023-03-01T14:43:03.564Z"
   },
   {
    "duration": 7,
    "start_time": "2023-03-01T14:46:05.929Z"
   },
   {
    "duration": 81,
    "start_time": "2023-03-01T14:57:42.566Z"
   },
   {
    "duration": 31,
    "start_time": "2023-03-01T14:59:52.722Z"
   },
   {
    "duration": 66,
    "start_time": "2023-03-01T15:11:23.597Z"
   },
   {
    "duration": 11,
    "start_time": "2023-03-01T15:11:50.802Z"
   },
   {
    "duration": 10,
    "start_time": "2023-03-01T15:17:54.054Z"
   },
   {
    "duration": 8,
    "start_time": "2023-03-01T15:17:59.748Z"
   },
   {
    "duration": 15,
    "start_time": "2023-03-01T15:18:10.376Z"
   },
   {
    "duration": 13,
    "start_time": "2023-03-01T15:18:26.629Z"
   },
   {
    "duration": 84,
    "start_time": "2023-03-01T15:19:09.636Z"
   },
   {
    "duration": 13,
    "start_time": "2023-03-01T15:19:29.868Z"
   },
   {
    "duration": 11,
    "start_time": "2023-03-01T15:28:06.101Z"
   },
   {
    "duration": 90,
    "start_time": "2023-03-01T15:52:52.555Z"
   },
   {
    "duration": 98,
    "start_time": "2023-03-01T15:54:01.403Z"
   },
   {
    "duration": 238,
    "start_time": "2023-03-01T15:55:12.008Z"
   },
   {
    "duration": 27,
    "start_time": "2023-03-01T15:55:22.945Z"
   },
   {
    "duration": 1336,
    "start_time": "2023-03-01T16:04:45.371Z"
   },
   {
    "duration": 8,
    "start_time": "2023-03-01T16:09:43.120Z"
   },
   {
    "duration": 16,
    "start_time": "2023-03-01T16:13:03.826Z"
   },
   {
    "duration": 14,
    "start_time": "2023-03-01T16:28:10.960Z"
   },
   {
    "duration": 15,
    "start_time": "2023-03-01T16:28:15.753Z"
   },
   {
    "duration": 22,
    "start_time": "2023-03-01T16:30:48.368Z"
   },
   {
    "duration": 20,
    "start_time": "2023-03-01T16:35:22.234Z"
   },
   {
    "duration": 84,
    "start_time": "2023-03-02T18:29:39.901Z"
   },
   {
    "duration": 604,
    "start_time": "2023-03-02T18:30:15.805Z"
   },
   {
    "duration": 25,
    "start_time": "2023-03-02T18:30:16.411Z"
   },
   {
    "duration": 17,
    "start_time": "2023-03-02T18:30:16.501Z"
   },
   {
    "duration": 10,
    "start_time": "2023-03-02T18:30:17.209Z"
   },
   {
    "duration": 37,
    "start_time": "2023-03-02T18:30:17.575Z"
   },
   {
    "duration": 4,
    "start_time": "2023-03-02T18:30:18.167Z"
   },
   {
    "duration": 8,
    "start_time": "2023-03-02T18:30:18.513Z"
   },
   {
    "duration": 4,
    "start_time": "2023-03-02T18:30:19.185Z"
   },
   {
    "duration": 7,
    "start_time": "2023-03-02T18:30:19.609Z"
   },
   {
    "duration": 6,
    "start_time": "2023-03-02T18:30:20.170Z"
   },
   {
    "duration": 34,
    "start_time": "2023-03-02T18:30:21.338Z"
   },
   {
    "duration": 11,
    "start_time": "2023-03-02T18:30:21.757Z"
   },
   {
    "duration": 5,
    "start_time": "2023-03-02T18:30:22.422Z"
   },
   {
    "duration": 12,
    "start_time": "2023-03-02T18:30:23.393Z"
   },
   {
    "duration": 22,
    "start_time": "2023-03-02T18:30:24.227Z"
   },
   {
    "duration": 19,
    "start_time": "2023-03-02T18:30:24.802Z"
   },
   {
    "duration": 3,
    "start_time": "2023-03-02T18:30:27.217Z"
   },
   {
    "duration": 11,
    "start_time": "2023-03-02T18:30:27.395Z"
   },
   {
    "duration": 7,
    "start_time": "2023-03-02T18:30:30.123Z"
   },
   {
    "duration": 4,
    "start_time": "2023-03-02T18:30:33.314Z"
   },
   {
    "duration": 11,
    "start_time": "2023-03-02T18:30:33.888Z"
   },
   {
    "duration": 32,
    "start_time": "2023-03-02T19:18:19.660Z"
   },
   {
    "duration": 79,
    "start_time": "2023-03-02T19:18:29.859Z"
   },
   {
    "duration": 16,
    "start_time": "2023-03-02T19:18:30.345Z"
   },
   {
    "duration": 15,
    "start_time": "2023-03-02T19:18:30.774Z"
   },
   {
    "duration": 10,
    "start_time": "2023-03-02T19:18:31.779Z"
   },
   {
    "duration": 42,
    "start_time": "2023-03-02T19:18:32.405Z"
   },
   {
    "duration": 3,
    "start_time": "2023-03-02T19:18:33.184Z"
   },
   {
    "duration": 8,
    "start_time": "2023-03-02T19:18:33.713Z"
   },
   {
    "duration": 5,
    "start_time": "2023-03-02T19:18:34.349Z"
   },
   {
    "duration": 5,
    "start_time": "2023-03-02T19:18:34.852Z"
   },
   {
    "duration": 5,
    "start_time": "2023-03-02T19:18:35.482Z"
   },
   {
    "duration": 36,
    "start_time": "2023-03-02T19:18:36.240Z"
   },
   {
    "duration": 12,
    "start_time": "2023-03-02T19:18:36.727Z"
   },
   {
    "duration": 4,
    "start_time": "2023-03-02T19:18:37.510Z"
   },
   {
    "duration": 13,
    "start_time": "2023-03-02T19:18:38.164Z"
   },
   {
    "duration": 21,
    "start_time": "2023-03-02T19:18:38.637Z"
   },
   {
    "duration": 19,
    "start_time": "2023-03-02T19:18:38.836Z"
   },
   {
    "duration": 4,
    "start_time": "2023-03-02T19:18:39.654Z"
   },
   {
    "duration": 11,
    "start_time": "2023-03-02T19:18:40.038Z"
   },
   {
    "duration": 7,
    "start_time": "2023-03-02T19:18:40.579Z"
   },
   {
    "duration": 3,
    "start_time": "2023-03-02T19:18:40.997Z"
   },
   {
    "duration": 10,
    "start_time": "2023-03-02T19:18:41.252Z"
   },
   {
    "duration": 9,
    "start_time": "2023-03-02T19:18:41.937Z"
   },
   {
    "duration": 31,
    "start_time": "2023-03-02T19:18:42.151Z"
   },
   {
    "duration": 8,
    "start_time": "2023-03-02T19:18:43.138Z"
   },
   {
    "duration": 15,
    "start_time": "2023-03-02T19:18:43.359Z"
   },
   {
    "duration": 76,
    "start_time": "2023-03-02T19:39:36.235Z"
   },
   {
    "duration": 16,
    "start_time": "2023-03-02T19:39:36.564Z"
   },
   {
    "duration": 15,
    "start_time": "2023-03-02T19:39:36.885Z"
   },
   {
    "duration": 12,
    "start_time": "2023-03-02T19:39:37.544Z"
   },
   {
    "duration": 35,
    "start_time": "2023-03-02T19:39:37.873Z"
   },
   {
    "duration": 3,
    "start_time": "2023-03-02T19:39:38.413Z"
   },
   {
    "duration": 8,
    "start_time": "2023-03-02T19:39:38.745Z"
   },
   {
    "duration": 7,
    "start_time": "2023-03-02T19:39:39.303Z"
   },
   {
    "duration": 6,
    "start_time": "2023-03-02T19:39:39.656Z"
   },
   {
    "duration": 5,
    "start_time": "2023-03-02T19:39:40.011Z"
   },
   {
    "duration": 37,
    "start_time": "2023-03-02T19:39:40.548Z"
   },
   {
    "duration": 11,
    "start_time": "2023-03-02T19:39:40.897Z"
   },
   {
    "duration": 5,
    "start_time": "2023-03-02T19:39:41.406Z"
   },
   {
    "duration": 11,
    "start_time": "2023-03-02T19:39:41.953Z"
   },
   {
    "duration": 24,
    "start_time": "2023-03-02T19:39:42.295Z"
   },
   {
    "duration": 19,
    "start_time": "2023-03-02T19:39:42.469Z"
   },
   {
    "duration": 4,
    "start_time": "2023-03-02T19:39:42.978Z"
   },
   {
    "duration": 15,
    "start_time": "2023-03-02T19:39:43.147Z"
   },
   {
    "duration": 6,
    "start_time": "2023-03-02T19:39:43.504Z"
   },
   {
    "duration": 3,
    "start_time": "2023-03-02T19:39:43.847Z"
   },
   {
    "duration": 10,
    "start_time": "2023-03-02T19:39:44.021Z"
   },
   {
    "duration": 9,
    "start_time": "2023-03-02T19:39:44.570Z"
   },
   {
    "duration": 27,
    "start_time": "2023-03-02T19:39:44.786Z"
   },
   {
    "duration": 9,
    "start_time": "2023-03-02T19:39:45.511Z"
   },
   {
    "duration": 21,
    "start_time": "2023-03-02T19:39:45.689Z"
   },
   {
    "duration": 9,
    "start_time": "2023-03-02T19:39:46.422Z"
   },
   {
    "duration": 19,
    "start_time": "2023-03-02T19:39:47.240Z"
   },
   {
    "duration": 43,
    "start_time": "2023-03-06T14:50:21.816Z"
   },
   {
    "duration": 499,
    "start_time": "2023-03-06T14:52:08.154Z"
   },
   {
    "duration": 22,
    "start_time": "2023-03-06T14:52:08.655Z"
   },
   {
    "duration": 14,
    "start_time": "2023-03-06T14:52:08.679Z"
   },
   {
    "duration": 9,
    "start_time": "2023-03-06T14:52:08.694Z"
   },
   {
    "duration": 44,
    "start_time": "2023-03-06T14:52:08.705Z"
   },
   {
    "duration": 3,
    "start_time": "2023-03-06T14:52:08.754Z"
   },
   {
    "duration": 11,
    "start_time": "2023-03-06T14:52:08.759Z"
   },
   {
    "duration": 4,
    "start_time": "2023-03-06T14:52:08.771Z"
   },
   {
    "duration": 11,
    "start_time": "2023-03-06T14:52:08.777Z"
   },
   {
    "duration": 4,
    "start_time": "2023-03-06T14:52:08.790Z"
   },
   {
    "duration": 59,
    "start_time": "2023-03-06T14:52:08.796Z"
   },
   {
    "duration": 12,
    "start_time": "2023-03-06T14:52:08.856Z"
   },
   {
    "duration": 8,
    "start_time": "2023-03-06T14:52:08.869Z"
   },
   {
    "duration": 15,
    "start_time": "2023-03-06T14:52:08.879Z"
   },
   {
    "duration": 27,
    "start_time": "2023-03-06T14:52:08.895Z"
   },
   {
    "duration": 36,
    "start_time": "2023-03-06T14:52:08.923Z"
   },
   {
    "duration": 3,
    "start_time": "2023-03-06T14:52:08.961Z"
   },
   {
    "duration": 12,
    "start_time": "2023-03-06T14:52:08.966Z"
   },
   {
    "duration": 5,
    "start_time": "2023-03-06T14:52:08.979Z"
   },
   {
    "duration": 3,
    "start_time": "2023-03-06T14:52:08.986Z"
   },
   {
    "duration": 46,
    "start_time": "2023-03-06T14:52:08.990Z"
   },
   {
    "duration": 27,
    "start_time": "2023-03-06T14:52:09.038Z"
   },
   {
    "duration": 33,
    "start_time": "2023-03-06T14:52:09.066Z"
   },
   {
    "duration": 6,
    "start_time": "2023-03-06T14:52:09.100Z"
   },
   {
    "duration": 18,
    "start_time": "2023-03-06T14:52:09.107Z"
   },
   {
    "duration": 7,
    "start_time": "2023-03-06T14:52:09.126Z"
   },
   {
    "duration": 23,
    "start_time": "2023-03-06T14:52:09.135Z"
   },
   {
    "duration": 18,
    "start_time": "2023-03-06T14:54:38.644Z"
   },
   {
    "duration": 17,
    "start_time": "2023-03-06T14:54:44.920Z"
   },
   {
    "duration": 444,
    "start_time": "2023-03-06T14:54:50.454Z"
   },
   {
    "duration": 21,
    "start_time": "2023-03-06T14:54:50.900Z"
   },
   {
    "duration": 13,
    "start_time": "2023-03-06T14:54:50.923Z"
   },
   {
    "duration": 8,
    "start_time": "2023-03-06T14:54:50.940Z"
   },
   {
    "duration": 38,
    "start_time": "2023-03-06T14:54:50.949Z"
   },
   {
    "duration": 3,
    "start_time": "2023-03-06T14:54:50.988Z"
   },
   {
    "duration": 16,
    "start_time": "2023-03-06T14:54:50.993Z"
   },
   {
    "duration": 10,
    "start_time": "2023-03-06T14:54:51.010Z"
   },
   {
    "duration": 11,
    "start_time": "2023-03-06T14:54:51.021Z"
   },
   {
    "duration": 6,
    "start_time": "2023-03-06T14:54:51.039Z"
   },
   {
    "duration": 49,
    "start_time": "2023-03-06T14:54:51.046Z"
   },
   {
    "duration": 10,
    "start_time": "2023-03-06T14:54:51.097Z"
   },
   {
    "duration": 8,
    "start_time": "2023-03-06T14:54:51.109Z"
   },
   {
    "duration": 17,
    "start_time": "2023-03-06T14:54:51.119Z"
   },
   {
    "duration": 26,
    "start_time": "2023-03-06T14:54:51.137Z"
   },
   {
    "duration": 22,
    "start_time": "2023-03-06T14:54:51.164Z"
   },
   {
    "duration": 4,
    "start_time": "2023-03-06T14:54:51.187Z"
   },
   {
    "duration": 18,
    "start_time": "2023-03-06T14:54:51.192Z"
   },
   {
    "duration": 8,
    "start_time": "2023-03-06T14:54:51.212Z"
   },
   {
    "duration": 37,
    "start_time": "2023-03-06T14:54:51.222Z"
   },
   {
    "duration": 45,
    "start_time": "2023-03-06T14:54:51.260Z"
   },
   {
    "duration": 24,
    "start_time": "2023-03-06T14:54:51.306Z"
   },
   {
    "duration": 23,
    "start_time": "2023-03-06T14:54:51.332Z"
   },
   {
    "duration": 6,
    "start_time": "2023-03-06T14:54:51.357Z"
   },
   {
    "duration": 12,
    "start_time": "2023-03-06T14:54:51.365Z"
   },
   {
    "duration": 12,
    "start_time": "2023-03-06T14:54:51.379Z"
   },
   {
    "duration": 29,
    "start_time": "2023-03-06T14:54:51.392Z"
   },
   {
    "duration": 43,
    "start_time": "2023-03-06T14:55:16.385Z"
   },
   {
    "duration": 18,
    "start_time": "2023-03-06T14:57:31.400Z"
   },
   {
    "duration": 18,
    "start_time": "2023-03-06T14:57:38.385Z"
   },
   {
    "duration": 19,
    "start_time": "2023-03-06T14:57:41.387Z"
   },
   {
    "duration": 20,
    "start_time": "2023-03-06T15:00:04.494Z"
   },
   {
    "duration": 20,
    "start_time": "2023-03-06T15:01:45.105Z"
   },
   {
    "duration": 16,
    "start_time": "2023-03-06T16:03:33.491Z"
   },
   {
    "duration": 15,
    "start_time": "2023-03-06T16:04:18.502Z"
   },
   {
    "duration": 461,
    "start_time": "2023-03-06T16:04:30.511Z"
   },
   {
    "duration": 21,
    "start_time": "2023-03-06T16:04:30.974Z"
   },
   {
    "duration": 43,
    "start_time": "2023-03-06T16:04:30.997Z"
   },
   {
    "duration": 45,
    "start_time": "2023-03-06T16:04:31.042Z"
   },
   {
    "duration": 83,
    "start_time": "2023-03-06T16:04:31.088Z"
   },
   {
    "duration": 3,
    "start_time": "2023-03-06T16:04:31.173Z"
   },
   {
    "duration": 23,
    "start_time": "2023-03-06T16:04:31.178Z"
   },
   {
    "duration": 25,
    "start_time": "2023-03-06T16:04:31.202Z"
   },
   {
    "duration": 26,
    "start_time": "2023-03-06T16:04:31.229Z"
   },
   {
    "duration": 21,
    "start_time": "2023-03-06T16:04:31.260Z"
   },
   {
    "duration": 31,
    "start_time": "2023-03-06T16:04:31.283Z"
   },
   {
    "duration": 7,
    "start_time": "2023-03-06T16:04:31.316Z"
   },
   {
    "duration": 19,
    "start_time": "2023-03-06T16:04:31.325Z"
   },
   {
    "duration": 25,
    "start_time": "2023-03-06T16:04:31.345Z"
   },
   {
    "duration": 36,
    "start_time": "2023-03-06T16:04:31.372Z"
   },
   {
    "duration": 15,
    "start_time": "2023-03-06T16:04:31.409Z"
   },
   {
    "duration": 16,
    "start_time": "2023-03-06T16:04:31.425Z"
   },
   {
    "duration": 43,
    "start_time": "2023-03-06T16:04:31.442Z"
   },
   {
    "duration": 27,
    "start_time": "2023-03-06T16:04:31.487Z"
   },
   {
    "duration": 25,
    "start_time": "2023-03-06T16:04:31.515Z"
   },
   {
    "duration": 11,
    "start_time": "2023-03-06T16:04:31.542Z"
   },
   {
    "duration": 33,
    "start_time": "2023-03-06T16:04:31.555Z"
   },
   {
    "duration": 45,
    "start_time": "2023-03-06T16:04:31.590Z"
   },
   {
    "duration": 10,
    "start_time": "2023-03-06T16:04:31.636Z"
   },
   {
    "duration": 35,
    "start_time": "2023-03-06T16:04:31.648Z"
   },
   {
    "duration": 21,
    "start_time": "2023-03-06T16:04:31.684Z"
   },
   {
    "duration": 53,
    "start_time": "2023-03-06T16:04:31.706Z"
   },
   {
    "duration": 18,
    "start_time": "2023-03-06T16:05:28.655Z"
   },
   {
    "duration": 442,
    "start_time": "2023-03-06T16:05:52.358Z"
   },
   {
    "duration": 21,
    "start_time": "2023-03-06T16:05:52.802Z"
   },
   {
    "duration": 13,
    "start_time": "2023-03-06T16:05:52.825Z"
   },
   {
    "duration": 9,
    "start_time": "2023-03-06T16:05:52.840Z"
   },
   {
    "duration": 30,
    "start_time": "2023-03-06T16:05:52.850Z"
   },
   {
    "duration": 3,
    "start_time": "2023-03-06T16:05:52.882Z"
   },
   {
    "duration": 11,
    "start_time": "2023-03-06T16:05:52.886Z"
   },
   {
    "duration": 7,
    "start_time": "2023-03-06T16:05:52.899Z"
   },
   {
    "duration": 10,
    "start_time": "2023-03-06T16:05:52.908Z"
   },
   {
    "duration": 22,
    "start_time": "2023-03-06T16:05:52.920Z"
   },
   {
    "duration": 35,
    "start_time": "2023-03-06T16:05:52.943Z"
   },
   {
    "duration": 8,
    "start_time": "2023-03-06T16:05:52.980Z"
   },
   {
    "duration": 4,
    "start_time": "2023-03-06T16:05:52.990Z"
   },
   {
    "duration": 20,
    "start_time": "2023-03-06T16:05:52.996Z"
   },
   {
    "duration": 28,
    "start_time": "2023-03-06T16:05:53.018Z"
   },
   {
    "duration": 15,
    "start_time": "2023-03-06T16:05:53.048Z"
   },
   {
    "duration": 3,
    "start_time": "2023-03-06T16:05:53.065Z"
   },
   {
    "duration": 14,
    "start_time": "2023-03-06T16:05:53.069Z"
   },
   {
    "duration": 5,
    "start_time": "2023-03-06T16:05:53.085Z"
   },
   {
    "duration": 3,
    "start_time": "2023-03-06T16:05:53.091Z"
   },
   {
    "duration": 10,
    "start_time": "2023-03-06T16:05:53.096Z"
   },
   {
    "duration": 7,
    "start_time": "2023-03-06T16:05:53.107Z"
   },
   {
    "duration": 24,
    "start_time": "2023-03-06T16:05:53.140Z"
   },
   {
    "duration": 11,
    "start_time": "2023-03-06T16:05:53.166Z"
   },
   {
    "duration": 13,
    "start_time": "2023-03-06T16:05:53.179Z"
   },
   {
    "duration": 12,
    "start_time": "2023-03-06T16:05:53.193Z"
   },
   {
    "duration": 42,
    "start_time": "2023-03-06T16:05:53.207Z"
   },
   {
    "duration": 11,
    "start_time": "2023-03-06T16:15:29.031Z"
   },
   {
    "duration": 450,
    "start_time": "2023-03-06T16:18:20.341Z"
   },
   {
    "duration": 22,
    "start_time": "2023-03-06T16:18:20.793Z"
   },
   {
    "duration": 13,
    "start_time": "2023-03-06T16:18:20.816Z"
   },
   {
    "duration": 14,
    "start_time": "2023-03-06T16:18:20.831Z"
   },
   {
    "duration": 32,
    "start_time": "2023-03-06T16:18:20.847Z"
   },
   {
    "duration": 3,
    "start_time": "2023-03-06T16:18:20.880Z"
   },
   {
    "duration": 10,
    "start_time": "2023-03-06T16:18:20.885Z"
   },
   {
    "duration": 4,
    "start_time": "2023-03-06T16:18:20.896Z"
   },
   {
    "duration": 11,
    "start_time": "2023-03-06T16:18:20.902Z"
   },
   {
    "duration": 26,
    "start_time": "2023-03-06T16:18:20.916Z"
   },
   {
    "duration": 28,
    "start_time": "2023-03-06T16:18:20.943Z"
   },
   {
    "duration": 8,
    "start_time": "2023-03-06T16:18:20.973Z"
   },
   {
    "duration": 4,
    "start_time": "2023-03-06T16:18:20.982Z"
   },
   {
    "duration": 12,
    "start_time": "2023-03-06T16:18:20.987Z"
   },
   {
    "duration": 45,
    "start_time": "2023-03-06T16:18:21.000Z"
   },
   {
    "duration": 16,
    "start_time": "2023-03-06T16:18:21.047Z"
   },
   {
    "duration": 3,
    "start_time": "2023-03-06T16:18:21.064Z"
   },
   {
    "duration": 12,
    "start_time": "2023-03-06T16:18:21.069Z"
   },
   {
    "duration": 6,
    "start_time": "2023-03-06T16:18:21.083Z"
   },
   {
    "duration": 3,
    "start_time": "2023-03-06T16:18:21.091Z"
   },
   {
    "duration": 10,
    "start_time": "2023-03-06T16:18:21.096Z"
   },
   {
    "duration": 34,
    "start_time": "2023-03-06T16:18:21.107Z"
   },
   {
    "duration": 23,
    "start_time": "2023-03-06T16:18:21.143Z"
   },
   {
    "duration": 11,
    "start_time": "2023-03-06T16:18:21.168Z"
   },
   {
    "duration": 97,
    "start_time": "2023-03-06T16:18:21.180Z"
   },
   {
    "duration": 0,
    "start_time": "2023-03-06T16:18:21.278Z"
   },
   {
    "duration": 0,
    "start_time": "2023-03-06T16:18:21.280Z"
   },
   {
    "duration": 14,
    "start_time": "2023-03-06T16:19:29.382Z"
   },
   {
    "duration": 15,
    "start_time": "2023-03-06T16:19:32.149Z"
   },
   {
    "duration": 44,
    "start_time": "2023-03-06T16:19:42.240Z"
   },
   {
    "duration": 7,
    "start_time": "2023-03-06T16:21:24.114Z"
   },
   {
    "duration": 396,
    "start_time": "2023-03-06T16:21:44.399Z"
   },
   {
    "duration": 20,
    "start_time": "2023-03-06T16:21:44.797Z"
   },
   {
    "duration": 14,
    "start_time": "2023-03-06T16:21:44.818Z"
   },
   {
    "duration": 8,
    "start_time": "2023-03-06T16:21:44.834Z"
   },
   {
    "duration": 34,
    "start_time": "2023-03-06T16:21:44.844Z"
   },
   {
    "duration": 3,
    "start_time": "2023-03-06T16:21:44.880Z"
   },
   {
    "duration": 10,
    "start_time": "2023-03-06T16:21:44.885Z"
   },
   {
    "duration": 4,
    "start_time": "2023-03-06T16:21:44.897Z"
   },
   {
    "duration": 13,
    "start_time": "2023-03-06T16:21:44.903Z"
   },
   {
    "duration": 26,
    "start_time": "2023-03-06T16:21:44.919Z"
   },
   {
    "duration": 33,
    "start_time": "2023-03-06T16:21:44.946Z"
   },
   {
    "duration": 9,
    "start_time": "2023-03-06T16:21:44.981Z"
   },
   {
    "duration": 27,
    "start_time": "2023-03-06T16:21:44.991Z"
   },
   {
    "duration": 18,
    "start_time": "2023-03-06T16:21:45.020Z"
   },
   {
    "duration": 28,
    "start_time": "2023-03-06T16:21:45.040Z"
   },
   {
    "duration": 16,
    "start_time": "2023-03-06T16:21:45.070Z"
   },
   {
    "duration": 4,
    "start_time": "2023-03-06T16:21:45.087Z"
   },
   {
    "duration": 17,
    "start_time": "2023-03-06T16:21:45.092Z"
   },
   {
    "duration": 9,
    "start_time": "2023-03-06T16:21:45.111Z"
   },
   {
    "duration": 4,
    "start_time": "2023-03-06T16:21:45.122Z"
   },
   {
    "duration": 12,
    "start_time": "2023-03-06T16:21:45.140Z"
   },
   {
    "duration": 13,
    "start_time": "2023-03-06T16:21:45.154Z"
   },
   {
    "duration": 22,
    "start_time": "2023-03-06T16:21:45.168Z"
   },
   {
    "duration": 6,
    "start_time": "2023-03-06T16:21:45.192Z"
   },
   {
    "duration": 40,
    "start_time": "2023-03-06T16:21:45.200Z"
   },
   {
    "duration": 10,
    "start_time": "2023-03-06T16:21:45.242Z"
   },
   {
    "duration": 23,
    "start_time": "2023-03-06T16:21:45.253Z"
   },
   {
    "duration": 19,
    "start_time": "2023-03-06T16:23:30.104Z"
   },
   {
    "duration": 21,
    "start_time": "2023-03-06T16:26:47.111Z"
   },
   {
    "duration": 61,
    "start_time": "2023-03-06T16:39:59.925Z"
   },
   {
    "duration": 457,
    "start_time": "2023-03-06T16:45:33.043Z"
   },
   {
    "duration": 21,
    "start_time": "2023-03-06T16:45:33.502Z"
   },
   {
    "duration": 14,
    "start_time": "2023-03-06T16:45:33.524Z"
   },
   {
    "duration": 8,
    "start_time": "2023-03-06T16:45:33.540Z"
   },
   {
    "duration": 35,
    "start_time": "2023-03-06T16:45:33.549Z"
   },
   {
    "duration": 4,
    "start_time": "2023-03-06T16:45:33.585Z"
   },
   {
    "duration": 12,
    "start_time": "2023-03-06T16:45:33.590Z"
   },
   {
    "duration": 6,
    "start_time": "2023-03-06T16:45:33.603Z"
   },
   {
    "duration": 9,
    "start_time": "2023-03-06T16:45:33.611Z"
   },
   {
    "duration": 5,
    "start_time": "2023-03-06T16:45:33.642Z"
   },
   {
    "duration": 57,
    "start_time": "2023-03-06T16:45:33.648Z"
   },
   {
    "duration": 8,
    "start_time": "2023-03-06T16:45:33.707Z"
   },
   {
    "duration": 4,
    "start_time": "2023-03-06T16:45:33.717Z"
   },
   {
    "duration": 11,
    "start_time": "2023-03-06T16:45:33.722Z"
   },
   {
    "duration": 19,
    "start_time": "2023-03-06T16:45:33.735Z"
   },
   {
    "duration": 15,
    "start_time": "2023-03-06T16:45:33.756Z"
   },
   {
    "duration": 3,
    "start_time": "2023-03-06T16:45:33.772Z"
   },
   {
    "duration": 13,
    "start_time": "2023-03-06T16:45:33.776Z"
   },
   {
    "duration": 6,
    "start_time": "2023-03-06T16:45:33.790Z"
   },
   {
    "duration": 4,
    "start_time": "2023-03-06T16:45:33.797Z"
   },
   {
    "duration": 13,
    "start_time": "2023-03-06T16:45:33.802Z"
   },
   {
    "duration": 27,
    "start_time": "2023-03-06T16:45:33.816Z"
   },
   {
    "duration": 24,
    "start_time": "2023-03-06T16:45:33.844Z"
   },
   {
    "duration": 11,
    "start_time": "2023-03-06T16:45:33.869Z"
   },
   {
    "duration": 16,
    "start_time": "2023-03-06T16:45:33.882Z"
   },
   {
    "duration": 83,
    "start_time": "2023-03-06T16:45:33.899Z"
   },
   {
    "duration": 0,
    "start_time": "2023-03-06T16:45:33.983Z"
   },
   {
    "duration": 12,
    "start_time": "2023-03-06T16:46:19.632Z"
   },
   {
    "duration": 18,
    "start_time": "2023-03-06T16:57:29.466Z"
   },
   {
    "duration": 17,
    "start_time": "2023-03-06T16:57:33.927Z"
   },
   {
    "duration": 442,
    "start_time": "2023-03-06T16:57:43.408Z"
   },
   {
    "duration": 21,
    "start_time": "2023-03-06T16:57:43.852Z"
   },
   {
    "duration": 13,
    "start_time": "2023-03-06T16:57:43.875Z"
   },
   {
    "duration": 9,
    "start_time": "2023-03-06T16:57:43.890Z"
   },
   {
    "duration": 53,
    "start_time": "2023-03-06T16:57:43.900Z"
   },
   {
    "duration": 4,
    "start_time": "2023-03-06T16:57:43.954Z"
   },
   {
    "duration": 10,
    "start_time": "2023-03-06T16:57:43.959Z"
   },
   {
    "duration": 4,
    "start_time": "2023-03-06T16:57:43.971Z"
   },
   {
    "duration": 8,
    "start_time": "2023-03-06T16:57:43.977Z"
   },
   {
    "duration": 5,
    "start_time": "2023-03-06T16:57:43.989Z"
   },
   {
    "duration": 71,
    "start_time": "2023-03-06T16:57:43.995Z"
   },
   {
    "duration": 12,
    "start_time": "2023-03-06T16:57:44.067Z"
   },
   {
    "duration": 4,
    "start_time": "2023-03-06T16:57:44.081Z"
   },
   {
    "duration": 16,
    "start_time": "2023-03-06T16:57:44.086Z"
   },
   {
    "duration": 41,
    "start_time": "2023-03-06T16:57:44.104Z"
   },
   {
    "duration": 18,
    "start_time": "2023-03-06T16:57:44.147Z"
   },
   {
    "duration": 5,
    "start_time": "2023-03-06T16:57:44.166Z"
   },
   {
    "duration": 14,
    "start_time": "2023-03-06T16:57:44.172Z"
   },
   {
    "duration": 6,
    "start_time": "2023-03-06T16:57:44.187Z"
   },
   {
    "duration": 3,
    "start_time": "2023-03-06T16:57:44.195Z"
   },
   {
    "duration": 10,
    "start_time": "2023-03-06T16:57:44.200Z"
   },
   {
    "duration": 34,
    "start_time": "2023-03-06T16:57:44.211Z"
   },
   {
    "duration": 26,
    "start_time": "2023-03-06T16:57:44.247Z"
   },
   {
    "duration": 11,
    "start_time": "2023-03-06T16:57:44.274Z"
   },
   {
    "duration": 17,
    "start_time": "2023-03-06T16:57:44.287Z"
   },
   {
    "duration": 43,
    "start_time": "2023-03-06T16:57:44.306Z"
   },
   {
    "duration": 17,
    "start_time": "2023-03-06T16:57:44.351Z"
   },
   {
    "duration": 18,
    "start_time": "2023-03-06T17:00:05.871Z"
   },
   {
    "duration": 21,
    "start_time": "2023-03-06T17:00:10.013Z"
   },
   {
    "duration": 413,
    "start_time": "2023-03-06T17:00:16.698Z"
   },
   {
    "duration": 22,
    "start_time": "2023-03-06T17:00:17.113Z"
   },
   {
    "duration": 13,
    "start_time": "2023-03-06T17:00:17.137Z"
   },
   {
    "duration": 9,
    "start_time": "2023-03-06T17:00:17.153Z"
   },
   {
    "duration": 29,
    "start_time": "2023-03-06T17:00:17.163Z"
   },
   {
    "duration": 3,
    "start_time": "2023-03-06T17:00:17.194Z"
   },
   {
    "duration": 10,
    "start_time": "2023-03-06T17:00:17.198Z"
   },
   {
    "duration": 4,
    "start_time": "2023-03-06T17:00:17.209Z"
   },
   {
    "duration": 35,
    "start_time": "2023-03-06T17:00:17.214Z"
   },
   {
    "duration": 5,
    "start_time": "2023-03-06T17:00:17.252Z"
   },
   {
    "duration": 38,
    "start_time": "2023-03-06T17:00:17.259Z"
   },
   {
    "duration": 8,
    "start_time": "2023-03-06T17:00:17.298Z"
   },
   {
    "duration": 16,
    "start_time": "2023-03-06T17:00:17.307Z"
   },
   {
    "duration": 19,
    "start_time": "2023-03-06T17:00:17.324Z"
   },
   {
    "duration": 22,
    "start_time": "2023-03-06T17:00:17.344Z"
   },
   {
    "duration": 15,
    "start_time": "2023-03-06T17:00:17.368Z"
   },
   {
    "duration": 3,
    "start_time": "2023-03-06T17:00:17.385Z"
   },
   {
    "duration": 12,
    "start_time": "2023-03-06T17:00:17.389Z"
   },
   {
    "duration": 8,
    "start_time": "2023-03-06T17:00:17.403Z"
   },
   {
    "duration": 3,
    "start_time": "2023-03-06T17:00:17.413Z"
   },
   {
    "duration": 30,
    "start_time": "2023-03-06T17:00:17.418Z"
   },
   {
    "duration": 7,
    "start_time": "2023-03-06T17:00:17.450Z"
   },
   {
    "duration": 24,
    "start_time": "2023-03-06T17:00:17.459Z"
   },
   {
    "duration": 12,
    "start_time": "2023-03-06T17:00:17.484Z"
   },
   {
    "duration": 17,
    "start_time": "2023-03-06T17:00:17.497Z"
   },
   {
    "duration": 39,
    "start_time": "2023-03-06T17:00:17.516Z"
   },
   {
    "duration": 26,
    "start_time": "2023-03-06T17:00:17.556Z"
   },
   {
    "duration": 20,
    "start_time": "2023-03-06T17:01:19.308Z"
   },
   {
    "duration": 729,
    "start_time": "2023-03-10T20:42:07.120Z"
   },
   {
    "duration": 24,
    "start_time": "2023-03-10T20:42:07.851Z"
   },
   {
    "duration": 16,
    "start_time": "2023-03-10T20:42:07.876Z"
   },
   {
    "duration": 12,
    "start_time": "2023-03-10T20:42:08.593Z"
   },
   {
    "duration": 41,
    "start_time": "2023-03-10T20:42:08.955Z"
   },
   {
    "duration": 4,
    "start_time": "2023-03-10T20:42:09.558Z"
   },
   {
    "duration": 8,
    "start_time": "2023-03-10T20:42:09.922Z"
   },
   {
    "duration": 6,
    "start_time": "2023-03-10T20:42:10.452Z"
   },
   {
    "duration": 6,
    "start_time": "2023-03-10T20:42:10.815Z"
   },
   {
    "duration": 4,
    "start_time": "2023-03-10T20:42:11.199Z"
   },
   {
    "duration": 34,
    "start_time": "2023-03-10T20:42:11.728Z"
   },
   {
    "duration": 10,
    "start_time": "2023-03-10T20:42:12.113Z"
   },
   {
    "duration": 4,
    "start_time": "2023-03-10T20:42:12.669Z"
   },
   {
    "duration": 12,
    "start_time": "2023-03-10T20:42:13.238Z"
   },
   {
    "duration": 21,
    "start_time": "2023-03-10T20:42:13.604Z"
   },
   {
    "duration": 19,
    "start_time": "2023-03-10T20:42:13.796Z"
   },
   {
    "duration": 4,
    "start_time": "2023-03-10T20:42:14.355Z"
   },
   {
    "duration": 14,
    "start_time": "2023-03-10T20:42:14.529Z"
   },
   {
    "duration": 8,
    "start_time": "2023-03-10T20:42:15.213Z"
   },
   {
    "duration": 4,
    "start_time": "2023-03-10T20:42:15.916Z"
   },
   {
    "duration": 13,
    "start_time": "2023-03-10T20:42:16.100Z"
   },
   {
    "duration": 11,
    "start_time": "2023-03-10T20:42:16.757Z"
   },
   {
    "duration": 27,
    "start_time": "2023-03-10T20:42:16.955Z"
   },
   {
    "duration": 13,
    "start_time": "2023-03-10T20:45:14.038Z"
   },
   {
    "duration": 20,
    "start_time": "2023-03-10T20:45:14.208Z"
   },
   {
    "duration": 21,
    "start_time": "2023-03-10T20:52:16.985Z"
   },
   {
    "duration": 72,
    "start_time": "2023-03-10T20:54:19.805Z"
   },
   {
    "duration": 16,
    "start_time": "2023-03-10T20:54:20.109Z"
   },
   {
    "duration": 23,
    "start_time": "2023-03-10T20:54:20.423Z"
   },
   {
    "duration": 10,
    "start_time": "2023-03-10T20:54:21.086Z"
   },
   {
    "duration": 33,
    "start_time": "2023-03-10T20:54:21.450Z"
   },
   {
    "duration": 3,
    "start_time": "2023-03-10T20:54:22.051Z"
   },
   {
    "duration": 9,
    "start_time": "2023-03-10T20:54:22.418Z"
   },
   {
    "duration": 5,
    "start_time": "2023-03-10T20:54:22.984Z"
   },
   {
    "duration": 6,
    "start_time": "2023-03-10T20:54:23.329Z"
   },
   {
    "duration": 5,
    "start_time": "2023-03-10T20:54:23.686Z"
   },
   {
    "duration": 35,
    "start_time": "2023-03-10T20:54:24.204Z"
   },
   {
    "duration": 12,
    "start_time": "2023-03-10T20:54:24.532Z"
   },
   {
    "duration": 4,
    "start_time": "2023-03-10T20:54:25.025Z"
   },
   {
    "duration": 11,
    "start_time": "2023-03-10T20:54:25.495Z"
   },
   {
    "duration": 19,
    "start_time": "2023-03-10T20:54:25.782Z"
   },
   {
    "duration": 19,
    "start_time": "2023-03-10T20:54:25.933Z"
   },
   {
    "duration": 4,
    "start_time": "2023-03-10T20:54:26.398Z"
   },
   {
    "duration": 11,
    "start_time": "2023-03-10T20:54:26.557Z"
   },
   {
    "duration": 6,
    "start_time": "2023-03-10T20:54:26.878Z"
   },
   {
    "duration": 4,
    "start_time": "2023-03-10T20:54:27.214Z"
   },
   {
    "duration": 9,
    "start_time": "2023-03-10T20:54:27.369Z"
   },
   {
    "duration": 8,
    "start_time": "2023-03-10T20:54:27.882Z"
   },
   {
    "duration": 26,
    "start_time": "2023-03-10T20:54:28.048Z"
   },
   {
    "duration": 14,
    "start_time": "2023-03-10T20:54:29.532Z"
   },
   {
    "duration": 18,
    "start_time": "2023-03-10T20:54:29.699Z"
   },
   {
    "duration": 20,
    "start_time": "2023-03-10T20:54:31.165Z"
   },
   {
    "duration": 19,
    "start_time": "2023-03-10T20:54:32.369Z"
   },
   {
    "duration": 50,
    "start_time": "2023-03-10T20:54:36.219Z"
   },
   {
    "duration": 748,
    "start_time": "2023-03-14T21:26:20.237Z"
   },
   {
    "duration": 27,
    "start_time": "2023-03-14T21:26:20.987Z"
   },
   {
    "duration": 16,
    "start_time": "2023-03-14T21:26:21.016Z"
   },
   {
    "duration": 11,
    "start_time": "2023-03-14T21:26:21.853Z"
   },
   {
    "duration": 39,
    "start_time": "2023-03-14T21:26:22.185Z"
   },
   {
    "duration": 4,
    "start_time": "2023-03-14T21:26:22.703Z"
   },
   {
    "duration": 8,
    "start_time": "2023-03-14T21:26:23.037Z"
   },
   {
    "duration": 5,
    "start_time": "2023-03-14T21:26:23.560Z"
   },
   {
    "duration": 7,
    "start_time": "2023-03-14T21:26:23.904Z"
   },
   {
    "duration": 6,
    "start_time": "2023-03-14T21:26:24.238Z"
   },
   {
    "duration": 42,
    "start_time": "2023-03-14T21:26:24.757Z"
   },
   {
    "duration": 11,
    "start_time": "2023-03-14T21:26:25.088Z"
   },
   {
    "duration": 3,
    "start_time": "2023-03-14T21:26:25.645Z"
   },
   {
    "duration": 12,
    "start_time": "2023-03-14T21:26:26.125Z"
   },
   {
    "duration": 25,
    "start_time": "2023-03-14T21:26:26.463Z"
   },
   {
    "duration": 19,
    "start_time": "2023-03-14T21:26:26.628Z"
   },
   {
    "duration": 3,
    "start_time": "2023-03-14T21:26:27.157Z"
   },
   {
    "duration": 11,
    "start_time": "2023-03-14T21:26:27.321Z"
   },
   {
    "duration": 15,
    "start_time": "2023-03-14T21:26:27.672Z"
   },
   {
    "duration": 4,
    "start_time": "2023-03-14T21:26:28.009Z"
   },
   {
    "duration": 10,
    "start_time": "2023-03-14T21:26:28.185Z"
   },
   {
    "duration": 9,
    "start_time": "2023-03-14T21:26:28.713Z"
   },
   {
    "duration": 29,
    "start_time": "2023-03-14T21:26:28.886Z"
   },
   {
    "duration": 16,
    "start_time": "2023-03-14T21:26:44.992Z"
   },
   {
    "duration": 22,
    "start_time": "2023-03-14T21:26:45.936Z"
   },
   {
    "duration": 29,
    "start_time": "2023-03-14T21:29:50.636Z"
   },
   {
    "duration": 26,
    "start_time": "2023-03-14T21:31:50.505Z"
   },
   {
    "duration": 48,
    "start_time": "2024-02-26T18:33:24.846Z"
   },
   {
    "duration": 514,
    "start_time": "2024-02-26T18:33:31.370Z"
   },
   {
    "duration": 21,
    "start_time": "2024-02-26T18:33:31.886Z"
   },
   {
    "duration": 71,
    "start_time": "2024-02-26T18:33:31.909Z"
   },
   {
    "duration": 62,
    "start_time": "2024-02-26T18:33:31.982Z"
   },
   {
    "duration": 151,
    "start_time": "2024-02-26T18:33:32.046Z"
   },
   {
    "duration": 21,
    "start_time": "2024-02-26T18:33:32.198Z"
   },
   {
    "duration": 75,
    "start_time": "2024-02-26T18:33:32.221Z"
   },
   {
    "duration": 33,
    "start_time": "2024-02-26T18:33:32.298Z"
   },
   {
    "duration": 18,
    "start_time": "2024-02-26T18:33:32.333Z"
   },
   {
    "duration": 39,
    "start_time": "2024-02-26T18:33:32.354Z"
   },
   {
    "duration": 71,
    "start_time": "2024-02-26T18:33:32.394Z"
   },
   {
    "duration": 9,
    "start_time": "2024-02-26T18:33:32.467Z"
   },
   {
    "duration": 33,
    "start_time": "2024-02-26T18:33:32.477Z"
   },
   {
    "duration": 35,
    "start_time": "2024-02-26T18:33:32.512Z"
   },
   {
    "duration": 54,
    "start_time": "2024-02-26T18:33:32.549Z"
   },
   {
    "duration": 22,
    "start_time": "2024-02-26T18:33:32.604Z"
   },
   {
    "duration": 7,
    "start_time": "2024-02-26T18:33:32.627Z"
   },
   {
    "duration": 21,
    "start_time": "2024-02-26T18:33:32.635Z"
   },
   {
    "duration": 22,
    "start_time": "2024-02-26T18:33:32.658Z"
   },
   {
    "duration": 39,
    "start_time": "2024-02-26T18:33:32.682Z"
   },
   {
    "duration": 55,
    "start_time": "2024-02-26T18:33:32.723Z"
   },
   {
    "duration": 34,
    "start_time": "2024-02-26T18:33:32.779Z"
   },
   {
    "duration": 52,
    "start_time": "2024-02-26T18:33:32.815Z"
   },
   {
    "duration": 32,
    "start_time": "2024-02-26T18:33:32.868Z"
   },
   {
    "duration": 17,
    "start_time": "2024-02-26T18:33:32.902Z"
   },
   {
    "duration": 25,
    "start_time": "2024-02-26T18:33:32.920Z"
   },
   {
    "duration": 65,
    "start_time": "2024-02-26T18:33:32.947Z"
   },
   {
    "duration": 7,
    "start_time": "2024-02-26T18:33:51.343Z"
   },
   {
    "duration": 27,
    "start_time": "2024-02-26T18:34:25.408Z"
   },
   {
    "duration": 8,
    "start_time": "2024-02-26T18:36:03.814Z"
   },
   {
    "duration": 5,
    "start_time": "2024-02-26T18:36:40.175Z"
   },
   {
    "duration": 66,
    "start_time": "2024-02-26T18:39:35.415Z"
   },
   {
    "duration": 7,
    "start_time": "2024-02-26T18:40:20.546Z"
   },
   {
    "duration": 11,
    "start_time": "2024-02-26T18:43:13.499Z"
   },
   {
    "duration": 20,
    "start_time": "2024-02-26T18:43:55.542Z"
   },
   {
    "duration": 13,
    "start_time": "2024-02-26T18:44:19.140Z"
   },
   {
    "duration": 6,
    "start_time": "2024-02-26T18:50:24.045Z"
   },
   {
    "duration": 6,
    "start_time": "2024-02-26T18:50:29.955Z"
   },
   {
    "duration": 6,
    "start_time": "2024-02-26T18:50:53.258Z"
   },
   {
    "duration": 14,
    "start_time": "2024-02-26T18:51:40.420Z"
   },
   {
    "duration": 16,
    "start_time": "2024-02-26T18:51:57.210Z"
   },
   {
    "duration": 18,
    "start_time": "2024-02-26T18:55:25.606Z"
   },
   {
    "duration": 21,
    "start_time": "2024-02-26T19:14:45.471Z"
   },
   {
    "duration": 610,
    "start_time": "2024-06-30T20:20:48.593Z"
   },
   {
    "duration": 19,
    "start_time": "2024-06-30T20:20:49.205Z"
   },
   {
    "duration": 12,
    "start_time": "2024-06-30T20:20:49.226Z"
   },
   {
    "duration": 7,
    "start_time": "2024-06-30T20:20:49.240Z"
   },
   {
    "duration": 37,
    "start_time": "2024-06-30T20:20:49.248Z"
   },
   {
    "duration": 3,
    "start_time": "2024-06-30T20:20:49.286Z"
   },
   {
    "duration": 8,
    "start_time": "2024-06-30T20:20:49.290Z"
   },
   {
    "duration": 4,
    "start_time": "2024-06-30T20:20:49.299Z"
   },
   {
    "duration": 7,
    "start_time": "2024-06-30T20:20:49.304Z"
   },
   {
    "duration": 3,
    "start_time": "2024-06-30T20:20:49.314Z"
   },
   {
    "duration": 28,
    "start_time": "2024-06-30T20:20:49.319Z"
   },
   {
    "duration": 30,
    "start_time": "2024-06-30T20:20:49.348Z"
   },
   {
    "duration": 3,
    "start_time": "2024-06-30T20:20:49.379Z"
   },
   {
    "duration": 10,
    "start_time": "2024-06-30T20:20:49.384Z"
   },
   {
    "duration": 18,
    "start_time": "2024-06-30T20:20:49.395Z"
   },
   {
    "duration": 15,
    "start_time": "2024-06-30T20:20:49.415Z"
   },
   {
    "duration": 3,
    "start_time": "2024-06-30T20:20:49.431Z"
   },
   {
    "duration": 38,
    "start_time": "2024-06-30T20:20:49.435Z"
   },
   {
    "duration": 17,
    "start_time": "2024-06-30T20:20:49.475Z"
   },
   {
    "duration": 3,
    "start_time": "2024-06-30T20:20:49.493Z"
   },
   {
    "duration": 17,
    "start_time": "2024-06-30T20:20:49.497Z"
   },
   {
    "duration": 7,
    "start_time": "2024-06-30T20:20:49.515Z"
   },
   {
    "duration": 22,
    "start_time": "2024-06-30T20:20:49.523Z"
   },
   {
    "duration": 9,
    "start_time": "2024-06-30T20:20:49.546Z"
   },
   {
    "duration": 20,
    "start_time": "2024-06-30T20:20:49.556Z"
   },
   {
    "duration": 25,
    "start_time": "2024-06-30T20:20:49.577Z"
   },
   {
    "duration": 15,
    "start_time": "2024-06-30T20:20:49.603Z"
   },
   {
    "duration": 17,
    "start_time": "2024-06-30T20:25:04.517Z"
   }
  ],
  "colab": {
   "name": "dpp_template_part2.ipynb",
   "provenance": []
  },
  "kernelspec": {
   "display_name": "Python 3 (ipykernel)",
   "language": "python",
   "name": "python3"
  },
  "language_info": {
   "codemirror_mode": {
    "name": "ipython",
    "version": 3
   },
   "file_extension": ".py",
   "mimetype": "text/x-python",
   "name": "python",
   "nbconvert_exporter": "python",
   "pygments_lexer": "ipython3",
   "version": "3.9.5"
  },
  "toc": {
   "base_numbering": 1,
   "nav_menu": {},
   "number_sections": true,
   "sideBar": true,
   "skip_h1_title": true,
   "title_cell": "Table of Contents",
   "title_sidebar": "Contents",
   "toc_cell": false,
   "toc_position": {},
   "toc_section_display": true,
   "toc_window_display": false
  }
 },
 "nbformat": 4,
 "nbformat_minor": 5
}
